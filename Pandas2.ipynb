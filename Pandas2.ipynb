{
 "cells": [
  {
   "cell_type": "code",
   "execution_count": 2,
   "outputs": [],
   "source": [
    "import pandas as pd"
   ],
   "metadata": {
    "collapsed": false
   }
  },
  {
   "cell_type": "code",
   "execution_count": 3,
   "outputs": [],
   "source": [
    "reviews = pd.read_csv('winemag-data_first150k.csv',index_col=0)"
   ],
   "metadata": {
    "collapsed": false
   }
  },
  {
   "cell_type": "code",
   "execution_count": 4,
   "outputs": [
    {
     "data": {
      "text/plain": "  country                                        description   \n0      US  This tremendous 100% varietal wine hails from ...  \\\n1   Spain  Ripe aromas of fig, blackberry and cassis are ...   \n2      US  Mac Watson honors the memory of a wine once ma...   \n3      US  This spent 20 months in 30% new French oak, an...   \n4  France  This is the top wine from La Bégude, named aft...   \n\n                            designation  points  price        province   \n0                     Martha's Vineyard      96  235.0      California  \\\n1  Carodorum Selección Especial Reserva      96  110.0  Northern Spain   \n2         Special Selected Late Harvest      96   90.0      California   \n3                               Reserve      96   65.0          Oregon   \n4                            La Brûlade      95   66.0        Provence   \n\n            region_1           region_2             variety   \n0        Napa Valley               Napa  Cabernet Sauvignon  \\\n1               Toro                NaN       Tinta de Toro   \n2     Knights Valley             Sonoma     Sauvignon Blanc   \n3  Willamette Valley  Willamette Valley          Pinot Noir   \n4             Bandol                NaN  Provence red blend   \n\n                    winery  \n0                    Heitz  \n1  Bodega Carmen Rodríguez  \n2                 Macauley  \n3                    Ponzi  \n4     Domaine de la Bégude  ",
      "text/html": "<div>\n<style scoped>\n    .dataframe tbody tr th:only-of-type {\n        vertical-align: middle;\n    }\n\n    .dataframe tbody tr th {\n        vertical-align: top;\n    }\n\n    .dataframe thead th {\n        text-align: right;\n    }\n</style>\n<table border=\"1\" class=\"dataframe\">\n  <thead>\n    <tr style=\"text-align: right;\">\n      <th></th>\n      <th>country</th>\n      <th>description</th>\n      <th>designation</th>\n      <th>points</th>\n      <th>price</th>\n      <th>province</th>\n      <th>region_1</th>\n      <th>region_2</th>\n      <th>variety</th>\n      <th>winery</th>\n    </tr>\n  </thead>\n  <tbody>\n    <tr>\n      <th>0</th>\n      <td>US</td>\n      <td>This tremendous 100% varietal wine hails from ...</td>\n      <td>Martha's Vineyard</td>\n      <td>96</td>\n      <td>235.0</td>\n      <td>California</td>\n      <td>Napa Valley</td>\n      <td>Napa</td>\n      <td>Cabernet Sauvignon</td>\n      <td>Heitz</td>\n    </tr>\n    <tr>\n      <th>1</th>\n      <td>Spain</td>\n      <td>Ripe aromas of fig, blackberry and cassis are ...</td>\n      <td>Carodorum Selección Especial Reserva</td>\n      <td>96</td>\n      <td>110.0</td>\n      <td>Northern Spain</td>\n      <td>Toro</td>\n      <td>NaN</td>\n      <td>Tinta de Toro</td>\n      <td>Bodega Carmen Rodríguez</td>\n    </tr>\n    <tr>\n      <th>2</th>\n      <td>US</td>\n      <td>Mac Watson honors the memory of a wine once ma...</td>\n      <td>Special Selected Late Harvest</td>\n      <td>96</td>\n      <td>90.0</td>\n      <td>California</td>\n      <td>Knights Valley</td>\n      <td>Sonoma</td>\n      <td>Sauvignon Blanc</td>\n      <td>Macauley</td>\n    </tr>\n    <tr>\n      <th>3</th>\n      <td>US</td>\n      <td>This spent 20 months in 30% new French oak, an...</td>\n      <td>Reserve</td>\n      <td>96</td>\n      <td>65.0</td>\n      <td>Oregon</td>\n      <td>Willamette Valley</td>\n      <td>Willamette Valley</td>\n      <td>Pinot Noir</td>\n      <td>Ponzi</td>\n    </tr>\n    <tr>\n      <th>4</th>\n      <td>France</td>\n      <td>This is the top wine from La Bégude, named aft...</td>\n      <td>La Brûlade</td>\n      <td>95</td>\n      <td>66.0</td>\n      <td>Provence</td>\n      <td>Bandol</td>\n      <td>NaN</td>\n      <td>Provence red blend</td>\n      <td>Domaine de la Bégude</td>\n    </tr>\n  </tbody>\n</table>\n</div>"
     },
     "execution_count": 4,
     "metadata": {},
     "output_type": "execute_result"
    }
   ],
   "source": [
    "reviews.head()"
   ],
   "metadata": {
    "collapsed": false
   }
  },
  {
   "cell_type": "code",
   "execution_count": 5,
   "outputs": [
    {
     "data": {
      "text/plain": "0             US\n1          Spain\n2             US\n3             US\n4         France\n           ...  \n150925     Italy\n150926    France\n150927     Italy\n150928    France\n150929     Italy\nName: country, Length: 150930, dtype: object"
     },
     "execution_count": 5,
     "metadata": {},
     "output_type": "execute_result"
    }
   ],
   "source": [
    "reviews.country"
   ],
   "metadata": {
    "collapsed": false
   }
  },
  {
   "cell_type": "code",
   "execution_count": 6,
   "outputs": [
    {
     "data": {
      "text/plain": "0             US\n1          Spain\n2             US\n3             US\n4         France\n           ...  \n150925     Italy\n150926    France\n150927     Italy\n150928    France\n150929     Italy\nName: country, Length: 150930, dtype: object"
     },
     "execution_count": 6,
     "metadata": {},
     "output_type": "execute_result"
    }
   ],
   "source": [
    "reviews['country']"
   ],
   "metadata": {
    "collapsed": false
   }
  },
  {
   "cell_type": "code",
   "execution_count": 9,
   "outputs": [
    {
     "data": {
      "text/plain": "'US'"
     },
     "execution_count": 9,
     "metadata": {},
     "output_type": "execute_result"
    }
   ],
   "source": [
    "reviews['country'][2]"
   ],
   "metadata": {
    "collapsed": false
   }
  },
  {
   "cell_type": "code",
   "execution_count": 15,
   "outputs": [
    {
     "data": {
      "text/plain": "country                                                       US\ndescription    This tremendous 100% varietal wine hails from ...\ndesignation                                    Martha's Vineyard\npoints                                                        96\nprice                                                      235.0\nprovince                                              California\nregion_1                                             Napa Valley\nregion_2                                                    Napa\nvariety                                       Cabernet Sauvignon\nwinery                                                     Heitz\nName: 0, dtype: object"
     },
     "execution_count": 15,
     "metadata": {},
     "output_type": "execute_result"
    }
   ],
   "source": [
    "reviews.iloc[0]"
   ],
   "metadata": {
    "collapsed": false
   }
  },
  {
   "cell_type": "code",
   "execution_count": 16,
   "outputs": [
    {
     "data": {
      "text/plain": "96"
     },
     "execution_count": 16,
     "metadata": {},
     "output_type": "execute_result"
    }
   ],
   "source": [
    "reviews.iloc[0].points"
   ],
   "metadata": {
    "collapsed": false
   }
  },
  {
   "cell_type": "code",
   "execution_count": 17,
   "outputs": [
    {
     "data": {
      "text/plain": "0             US\n1          Spain\n2             US\n3             US\n4         France\n           ...  \n150925     Italy\n150926    France\n150927     Italy\n150928    France\n150929     Italy\nName: country, Length: 150930, dtype: object"
     },
     "execution_count": 17,
     "metadata": {},
     "output_type": "execute_result"
    }
   ],
   "source": [
    "reviews.iloc[:,0]"
   ],
   "metadata": {
    "collapsed": false
   }
  },
  {
   "cell_type": "code",
   "execution_count": 18,
   "outputs": [
    {
     "data": {
      "text/plain": "0         This tremendous 100% varietal wine hails from ...\n1         Ripe aromas of fig, blackberry and cassis are ...\n2         Mac Watson honors the memory of a wine once ma...\n3         This spent 20 months in 30% new French oak, an...\n4         This is the top wine from La Bégude, named aft...\n                                ...                        \n150925    Many people feel Fiano represents southern Ita...\n150926    Offers an intriguing nose with ginger, lime an...\n150927    This classic example comes from a cru vineyard...\n150928    A perfect salmon shade, with scents of peaches...\n150929    More Pinot Grigios should taste like this. A r...\nName: description, Length: 150930, dtype: object"
     },
     "execution_count": 18,
     "metadata": {},
     "output_type": "execute_result"
    }
   ],
   "source": [
    "reviews.iloc[:,1]"
   ],
   "metadata": {
    "collapsed": false
   }
  },
  {
   "cell_type": "code",
   "execution_count": 19,
   "outputs": [
    {
     "data": {
      "text/plain": "0         96\n1         96\n2         96\n3         96\n4         95\n          ..\n150925    91\n150926    91\n150927    91\n150928    90\n150929    90\nName: points, Length: 150930, dtype: int64"
     },
     "execution_count": 19,
     "metadata": {},
     "output_type": "execute_result"
    }
   ],
   "source": [
    "reviews.iloc[:].points"
   ],
   "metadata": {
    "collapsed": false
   }
  },
  {
   "cell_type": "code",
   "execution_count": 21,
   "outputs": [
    {
     "data": {
      "text/plain": "1    Carodorum Selección Especial Reserva\n2           Special Selected Late Harvest\n3                                 Reserve\n4                              La Brûlade\nName: designation, dtype: object"
     },
     "execution_count": 21,
     "metadata": {},
     "output_type": "execute_result"
    }
   ],
   "source": [
    "reviews.iloc[1:5,2]"
   ],
   "metadata": {
    "collapsed": false
   }
  },
  {
   "cell_type": "code",
   "execution_count": 22,
   "outputs": [
    {
     "data": {
      "text/plain": "0                Martha's Vineyard\n2    Special Selected Late Harvest\n4                       La Brûlade\nName: designation, dtype: object"
     },
     "execution_count": 22,
     "metadata": {},
     "output_type": "execute_result"
    }
   ],
   "source": [
    "reviews.iloc[[0,2,4],2]"
   ],
   "metadata": {
    "collapsed": false
   }
  },
  {
   "cell_type": "code",
   "execution_count": 24,
   "outputs": [
    {
     "data": {
      "text/plain": "150915                      Nightingale\n150916                        J. Schram\n150917                    Brut Mosaïque\n150918                   Cuvée Mosaïque\n150919                  Cuvée President\n150920                     Brut Riserva\n150921    Blanc de Blancs Brut Mosaïque\n150922                        Superiore\n150923                         Demi-Sec\n150924                     Diamant Bleu\nName: designation, dtype: object"
     },
     "execution_count": 24,
     "metadata": {},
     "output_type": "execute_result"
    }
   ],
   "source": [
    "reviews.iloc[-15:-5,2]"
   ],
   "metadata": {
    "collapsed": false
   }
  },
  {
   "cell_type": "code",
   "execution_count": 28,
   "outputs": [
    {
     "data": {
      "text/plain": "                                 designation country  points\n0                          Martha's Vineyard      US      96\n1       Carodorum Selección Especial Reserva   Spain      96\n2              Special Selected Late Harvest      US      96\n3                                    Reserve      US      96\n4                                 La Brûlade  France      95\n...                                      ...     ...     ...\n150925                                   NaN   Italy      91\n150926                        Cuvée Prestige  France      91\n150927                         Terre di Dora   Italy      91\n150928                       Grand Brut Rosé  France      90\n150929                                   NaN   Italy      90\n\n[150930 rows x 3 columns]",
      "text/html": "<div>\n<style scoped>\n    .dataframe tbody tr th:only-of-type {\n        vertical-align: middle;\n    }\n\n    .dataframe tbody tr th {\n        vertical-align: top;\n    }\n\n    .dataframe thead th {\n        text-align: right;\n    }\n</style>\n<table border=\"1\" class=\"dataframe\">\n  <thead>\n    <tr style=\"text-align: right;\">\n      <th></th>\n      <th>designation</th>\n      <th>country</th>\n      <th>points</th>\n    </tr>\n  </thead>\n  <tbody>\n    <tr>\n      <th>0</th>\n      <td>Martha's Vineyard</td>\n      <td>US</td>\n      <td>96</td>\n    </tr>\n    <tr>\n      <th>1</th>\n      <td>Carodorum Selección Especial Reserva</td>\n      <td>Spain</td>\n      <td>96</td>\n    </tr>\n    <tr>\n      <th>2</th>\n      <td>Special Selected Late Harvest</td>\n      <td>US</td>\n      <td>96</td>\n    </tr>\n    <tr>\n      <th>3</th>\n      <td>Reserve</td>\n      <td>US</td>\n      <td>96</td>\n    </tr>\n    <tr>\n      <th>4</th>\n      <td>La Brûlade</td>\n      <td>France</td>\n      <td>95</td>\n    </tr>\n    <tr>\n      <th>...</th>\n      <td>...</td>\n      <td>...</td>\n      <td>...</td>\n    </tr>\n    <tr>\n      <th>150925</th>\n      <td>NaN</td>\n      <td>Italy</td>\n      <td>91</td>\n    </tr>\n    <tr>\n      <th>150926</th>\n      <td>Cuvée Prestige</td>\n      <td>France</td>\n      <td>91</td>\n    </tr>\n    <tr>\n      <th>150927</th>\n      <td>Terre di Dora</td>\n      <td>Italy</td>\n      <td>91</td>\n    </tr>\n    <tr>\n      <th>150928</th>\n      <td>Grand Brut Rosé</td>\n      <td>France</td>\n      <td>90</td>\n    </tr>\n    <tr>\n      <th>150929</th>\n      <td>NaN</td>\n      <td>Italy</td>\n      <td>90</td>\n    </tr>\n  </tbody>\n</table>\n<p>150930 rows × 3 columns</p>\n</div>"
     },
     "execution_count": 28,
     "metadata": {},
     "output_type": "execute_result"
    }
   ],
   "source": [
    "reviews.loc[:, ['designation', 'country', 'points']]"
   ],
   "metadata": {
    "collapsed": false
   }
  },
  {
   "cell_type": "code",
   "execution_count": 29,
   "outputs": [
    {
     "data": {
      "text/plain": "  country                                        description   \n0      US  This tremendous 100% varietal wine hails from ...  \\\n1   Spain  Ripe aromas of fig, blackberry and cassis are ...   \n2      US  Mac Watson honors the memory of a wine once ma...   \n3      US  This spent 20 months in 30% new French oak, an...   \n4  France  This is the top wine from La Bégude, named aft...   \n\n                            designation  points  price        province   \n0                     Martha's Vineyard      96  235.0      California  \\\n1  Carodorum Selección Especial Reserva      96  110.0  Northern Spain   \n2         Special Selected Late Harvest      96   90.0      California   \n3                               Reserve      96   65.0          Oregon   \n4                            La Brûlade      95   66.0        Provence   \n\n            region_1           region_2             variety   \n0        Napa Valley               Napa  Cabernet Sauvignon  \\\n1               Toro                NaN       Tinta de Toro   \n2     Knights Valley             Sonoma     Sauvignon Blanc   \n3  Willamette Valley  Willamette Valley          Pinot Noir   \n4             Bandol                NaN  Provence red blend   \n\n                    winery  \n0                    Heitz  \n1  Bodega Carmen Rodríguez  \n2                 Macauley  \n3                    Ponzi  \n4     Domaine de la Bégude  ",
      "text/html": "<div>\n<style scoped>\n    .dataframe tbody tr th:only-of-type {\n        vertical-align: middle;\n    }\n\n    .dataframe tbody tr th {\n        vertical-align: top;\n    }\n\n    .dataframe thead th {\n        text-align: right;\n    }\n</style>\n<table border=\"1\" class=\"dataframe\">\n  <thead>\n    <tr style=\"text-align: right;\">\n      <th></th>\n      <th>country</th>\n      <th>description</th>\n      <th>designation</th>\n      <th>points</th>\n      <th>price</th>\n      <th>province</th>\n      <th>region_1</th>\n      <th>region_2</th>\n      <th>variety</th>\n      <th>winery</th>\n    </tr>\n  </thead>\n  <tbody>\n    <tr>\n      <th>0</th>\n      <td>US</td>\n      <td>This tremendous 100% varietal wine hails from ...</td>\n      <td>Martha's Vineyard</td>\n      <td>96</td>\n      <td>235.0</td>\n      <td>California</td>\n      <td>Napa Valley</td>\n      <td>Napa</td>\n      <td>Cabernet Sauvignon</td>\n      <td>Heitz</td>\n    </tr>\n    <tr>\n      <th>1</th>\n      <td>Spain</td>\n      <td>Ripe aromas of fig, blackberry and cassis are ...</td>\n      <td>Carodorum Selección Especial Reserva</td>\n      <td>96</td>\n      <td>110.0</td>\n      <td>Northern Spain</td>\n      <td>Toro</td>\n      <td>NaN</td>\n      <td>Tinta de Toro</td>\n      <td>Bodega Carmen Rodríguez</td>\n    </tr>\n    <tr>\n      <th>2</th>\n      <td>US</td>\n      <td>Mac Watson honors the memory of a wine once ma...</td>\n      <td>Special Selected Late Harvest</td>\n      <td>96</td>\n      <td>90.0</td>\n      <td>California</td>\n      <td>Knights Valley</td>\n      <td>Sonoma</td>\n      <td>Sauvignon Blanc</td>\n      <td>Macauley</td>\n    </tr>\n    <tr>\n      <th>3</th>\n      <td>US</td>\n      <td>This spent 20 months in 30% new French oak, an...</td>\n      <td>Reserve</td>\n      <td>96</td>\n      <td>65.0</td>\n      <td>Oregon</td>\n      <td>Willamette Valley</td>\n      <td>Willamette Valley</td>\n      <td>Pinot Noir</td>\n      <td>Ponzi</td>\n    </tr>\n    <tr>\n      <th>4</th>\n      <td>France</td>\n      <td>This is the top wine from La Bégude, named aft...</td>\n      <td>La Brûlade</td>\n      <td>95</td>\n      <td>66.0</td>\n      <td>Provence</td>\n      <td>Bandol</td>\n      <td>NaN</td>\n      <td>Provence red blend</td>\n      <td>Domaine de la Bégude</td>\n    </tr>\n  </tbody>\n</table>\n</div>"
     },
     "execution_count": 29,
     "metadata": {},
     "output_type": "execute_result"
    }
   ],
   "source": [
    "reviews.head()"
   ],
   "metadata": {
    "collapsed": false
   }
  },
  {
   "cell_type": "code",
   "execution_count": 30,
   "outputs": [
    {
     "data": {
      "text/plain": "       country                                        description   \n10       Italy  Elegance, complexity and structure come togeth...  \\\n32       Italy  Underbrush, scorched earth, menthol and plum s...   \n35       Italy  Forest floor, tilled soil, mature berry and a ...   \n37       Italy  Aromas of forest floor, violet, red berry and ...   \n38       Italy  This has a charming nose that boasts rose, vio...   \n...        ...                                                ...   \n150920   Italy  Rich and mature aromas of smoke, earth and her...   \n150922   Italy  Made by 30-ish Roberta Borghese high above Man...   \n150925   Italy  Many people feel Fiano represents southern Ita...   \n150927   Italy  This classic example comes from a cru vineyard...   \n150929   Italy  More Pinot Grigios should taste like this. A r...   \n\n               designation  points  price            province   \n10      Ronco della Chiesa      95   80.0  Northeastern Italy  \\\n32           Vigna Piaggia      90    NaN             Tuscany   \n35                 Riserva      90  135.0             Tuscany   \n37                     NaN      90   29.0             Tuscany   \n38                     NaN      90   23.0             Tuscany   \n...                    ...     ...    ...                 ...   \n150920        Brut Riserva      91   19.0  Northeastern Italy   \n150922           Superiore      91    NaN  Northeastern Italy   \n150925                 NaN      91   20.0      Southern Italy   \n150927       Terre di Dora      91   20.0      Southern Italy   \n150929                 NaN      90   15.0  Northeastern Italy   \n\n                            region_1 region_2          variety   \n10                            Collio      NaN         Friulano  \\\n32            Brunello di Montalcino      NaN       Sangiovese   \n35            Brunello di Montalcino      NaN       Sangiovese   \n37      Vino Nobile di Montepulciano      NaN       Sangiovese   \n38                  Chianti Classico      NaN       Sangiovese   \n...                              ...      ...              ...   \n150920                        Trento      NaN  Champagne Blend   \n150922    Colli Orientali del Friuli      NaN            Tocai   \n150925             Fiano di Avellino      NaN      White Blend   \n150927             Fiano di Avellino      NaN      White Blend   \n150929                    Alto Adige      NaN     Pinot Grigio   \n\n                       winery  \n10           Borgo del Tiglio  \n32            Abbadia Ardenga  \n35                   Carillon  \n37                 Avignonesi  \n38           Casina di Cornia  \n...                       ...  \n150920                Letrari  \n150922      Ronchi di Manzano  \n150925  Feudi di San Gregorio  \n150927              Terredora  \n150929          Alois Lageder  \n\n[7945 rows x 10 columns]",
      "text/html": "<div>\n<style scoped>\n    .dataframe tbody tr th:only-of-type {\n        vertical-align: middle;\n    }\n\n    .dataframe tbody tr th {\n        vertical-align: top;\n    }\n\n    .dataframe thead th {\n        text-align: right;\n    }\n</style>\n<table border=\"1\" class=\"dataframe\">\n  <thead>\n    <tr style=\"text-align: right;\">\n      <th></th>\n      <th>country</th>\n      <th>description</th>\n      <th>designation</th>\n      <th>points</th>\n      <th>price</th>\n      <th>province</th>\n      <th>region_1</th>\n      <th>region_2</th>\n      <th>variety</th>\n      <th>winery</th>\n    </tr>\n  </thead>\n  <tbody>\n    <tr>\n      <th>10</th>\n      <td>Italy</td>\n      <td>Elegance, complexity and structure come togeth...</td>\n      <td>Ronco della Chiesa</td>\n      <td>95</td>\n      <td>80.0</td>\n      <td>Northeastern Italy</td>\n      <td>Collio</td>\n      <td>NaN</td>\n      <td>Friulano</td>\n      <td>Borgo del Tiglio</td>\n    </tr>\n    <tr>\n      <th>32</th>\n      <td>Italy</td>\n      <td>Underbrush, scorched earth, menthol and plum s...</td>\n      <td>Vigna Piaggia</td>\n      <td>90</td>\n      <td>NaN</td>\n      <td>Tuscany</td>\n      <td>Brunello di Montalcino</td>\n      <td>NaN</td>\n      <td>Sangiovese</td>\n      <td>Abbadia Ardenga</td>\n    </tr>\n    <tr>\n      <th>35</th>\n      <td>Italy</td>\n      <td>Forest floor, tilled soil, mature berry and a ...</td>\n      <td>Riserva</td>\n      <td>90</td>\n      <td>135.0</td>\n      <td>Tuscany</td>\n      <td>Brunello di Montalcino</td>\n      <td>NaN</td>\n      <td>Sangiovese</td>\n      <td>Carillon</td>\n    </tr>\n    <tr>\n      <th>37</th>\n      <td>Italy</td>\n      <td>Aromas of forest floor, violet, red berry and ...</td>\n      <td>NaN</td>\n      <td>90</td>\n      <td>29.0</td>\n      <td>Tuscany</td>\n      <td>Vino Nobile di Montepulciano</td>\n      <td>NaN</td>\n      <td>Sangiovese</td>\n      <td>Avignonesi</td>\n    </tr>\n    <tr>\n      <th>38</th>\n      <td>Italy</td>\n      <td>This has a charming nose that boasts rose, vio...</td>\n      <td>NaN</td>\n      <td>90</td>\n      <td>23.0</td>\n      <td>Tuscany</td>\n      <td>Chianti Classico</td>\n      <td>NaN</td>\n      <td>Sangiovese</td>\n      <td>Casina di Cornia</td>\n    </tr>\n    <tr>\n      <th>...</th>\n      <td>...</td>\n      <td>...</td>\n      <td>...</td>\n      <td>...</td>\n      <td>...</td>\n      <td>...</td>\n      <td>...</td>\n      <td>...</td>\n      <td>...</td>\n      <td>...</td>\n    </tr>\n    <tr>\n      <th>150920</th>\n      <td>Italy</td>\n      <td>Rich and mature aromas of smoke, earth and her...</td>\n      <td>Brut Riserva</td>\n      <td>91</td>\n      <td>19.0</td>\n      <td>Northeastern Italy</td>\n      <td>Trento</td>\n      <td>NaN</td>\n      <td>Champagne Blend</td>\n      <td>Letrari</td>\n    </tr>\n    <tr>\n      <th>150922</th>\n      <td>Italy</td>\n      <td>Made by 30-ish Roberta Borghese high above Man...</td>\n      <td>Superiore</td>\n      <td>91</td>\n      <td>NaN</td>\n      <td>Northeastern Italy</td>\n      <td>Colli Orientali del Friuli</td>\n      <td>NaN</td>\n      <td>Tocai</td>\n      <td>Ronchi di Manzano</td>\n    </tr>\n    <tr>\n      <th>150925</th>\n      <td>Italy</td>\n      <td>Many people feel Fiano represents southern Ita...</td>\n      <td>NaN</td>\n      <td>91</td>\n      <td>20.0</td>\n      <td>Southern Italy</td>\n      <td>Fiano di Avellino</td>\n      <td>NaN</td>\n      <td>White Blend</td>\n      <td>Feudi di San Gregorio</td>\n    </tr>\n    <tr>\n      <th>150927</th>\n      <td>Italy</td>\n      <td>This classic example comes from a cru vineyard...</td>\n      <td>Terre di Dora</td>\n      <td>91</td>\n      <td>20.0</td>\n      <td>Southern Italy</td>\n      <td>Fiano di Avellino</td>\n      <td>NaN</td>\n      <td>White Blend</td>\n      <td>Terredora</td>\n    </tr>\n    <tr>\n      <th>150929</th>\n      <td>Italy</td>\n      <td>More Pinot Grigios should taste like this. A r...</td>\n      <td>NaN</td>\n      <td>90</td>\n      <td>15.0</td>\n      <td>Northeastern Italy</td>\n      <td>Alto Adige</td>\n      <td>NaN</td>\n      <td>Pinot Grigio</td>\n      <td>Alois Lageder</td>\n    </tr>\n  </tbody>\n</table>\n<p>7945 rows × 10 columns</p>\n</div>"
     },
     "execution_count": 30,
     "metadata": {},
     "output_type": "execute_result"
    }
   ],
   "source": [
    "reviews.loc[(reviews.country == 'Italy') & (reviews.points >= 90)]"
   ],
   "metadata": {
    "collapsed": false
   }
  },
  {
   "cell_type": "code",
   "execution_count": 31,
   "outputs": [
    {
     "data": {
      "text/plain": "       country                                        description   \n0           US  This tremendous 100% varietal wine hails from ...  \\\n1        Spain  Ripe aromas of fig, blackberry and cassis are ...   \n2           US  Mac Watson honors the memory of a wine once ma...   \n3           US  This spent 20 months in 30% new French oak, an...   \n4       France  This is the top wine from La Bégude, named aft...   \n...        ...                                                ...   \n150925   Italy  Many people feel Fiano represents southern Ita...   \n150926  France  Offers an intriguing nose with ginger, lime an...   \n150927   Italy  This classic example comes from a cru vineyard...   \n150928  France  A perfect salmon shade, with scents of peaches...   \n150929   Italy  More Pinot Grigios should taste like this. A r...   \n\n                                 designation  points  price   \n0                          Martha's Vineyard      96  235.0  \\\n1       Carodorum Selección Especial Reserva      96  110.0   \n2              Special Selected Late Harvest      96   90.0   \n3                                    Reserve      96   65.0   \n4                                 La Brûlade      95   66.0   \n...                                      ...     ...    ...   \n150925                                   NaN      91   20.0   \n150926                        Cuvée Prestige      91   27.0   \n150927                         Terre di Dora      91   20.0   \n150928                       Grand Brut Rosé      90   52.0   \n150929                                   NaN      90   15.0   \n\n                  province           region_1           region_2   \n0               California        Napa Valley               Napa  \\\n1           Northern Spain               Toro                NaN   \n2               California     Knights Valley             Sonoma   \n3                   Oregon  Willamette Valley  Willamette Valley   \n4                 Provence             Bandol                NaN   \n...                    ...                ...                ...   \n150925      Southern Italy  Fiano di Avellino                NaN   \n150926           Champagne          Champagne                NaN   \n150927      Southern Italy  Fiano di Avellino                NaN   \n150928           Champagne          Champagne                NaN   \n150929  Northeastern Italy         Alto Adige                NaN   \n\n                   variety                   winery  \n0       Cabernet Sauvignon                    Heitz  \n1            Tinta de Toro  Bodega Carmen Rodríguez  \n2          Sauvignon Blanc                 Macauley  \n3               Pinot Noir                    Ponzi  \n4       Provence red blend     Domaine de la Bégude  \n...                    ...                      ...  \n150925         White Blend    Feudi di San Gregorio  \n150926     Champagne Blend                H.Germain  \n150927         White Blend                Terredora  \n150928     Champagne Blend                   Gosset  \n150929        Pinot Grigio            Alois Lageder  \n\n[63743 rows x 10 columns]",
      "text/html": "<div>\n<style scoped>\n    .dataframe tbody tr th:only-of-type {\n        vertical-align: middle;\n    }\n\n    .dataframe tbody tr th {\n        vertical-align: top;\n    }\n\n    .dataframe thead th {\n        text-align: right;\n    }\n</style>\n<table border=\"1\" class=\"dataframe\">\n  <thead>\n    <tr style=\"text-align: right;\">\n      <th></th>\n      <th>country</th>\n      <th>description</th>\n      <th>designation</th>\n      <th>points</th>\n      <th>price</th>\n      <th>province</th>\n      <th>region_1</th>\n      <th>region_2</th>\n      <th>variety</th>\n      <th>winery</th>\n    </tr>\n  </thead>\n  <tbody>\n    <tr>\n      <th>0</th>\n      <td>US</td>\n      <td>This tremendous 100% varietal wine hails from ...</td>\n      <td>Martha's Vineyard</td>\n      <td>96</td>\n      <td>235.0</td>\n      <td>California</td>\n      <td>Napa Valley</td>\n      <td>Napa</td>\n      <td>Cabernet Sauvignon</td>\n      <td>Heitz</td>\n    </tr>\n    <tr>\n      <th>1</th>\n      <td>Spain</td>\n      <td>Ripe aromas of fig, blackberry and cassis are ...</td>\n      <td>Carodorum Selección Especial Reserva</td>\n      <td>96</td>\n      <td>110.0</td>\n      <td>Northern Spain</td>\n      <td>Toro</td>\n      <td>NaN</td>\n      <td>Tinta de Toro</td>\n      <td>Bodega Carmen Rodríguez</td>\n    </tr>\n    <tr>\n      <th>2</th>\n      <td>US</td>\n      <td>Mac Watson honors the memory of a wine once ma...</td>\n      <td>Special Selected Late Harvest</td>\n      <td>96</td>\n      <td>90.0</td>\n      <td>California</td>\n      <td>Knights Valley</td>\n      <td>Sonoma</td>\n      <td>Sauvignon Blanc</td>\n      <td>Macauley</td>\n    </tr>\n    <tr>\n      <th>3</th>\n      <td>US</td>\n      <td>This spent 20 months in 30% new French oak, an...</td>\n      <td>Reserve</td>\n      <td>96</td>\n      <td>65.0</td>\n      <td>Oregon</td>\n      <td>Willamette Valley</td>\n      <td>Willamette Valley</td>\n      <td>Pinot Noir</td>\n      <td>Ponzi</td>\n    </tr>\n    <tr>\n      <th>4</th>\n      <td>France</td>\n      <td>This is the top wine from La Bégude, named aft...</td>\n      <td>La Brûlade</td>\n      <td>95</td>\n      <td>66.0</td>\n      <td>Provence</td>\n      <td>Bandol</td>\n      <td>NaN</td>\n      <td>Provence red blend</td>\n      <td>Domaine de la Bégude</td>\n    </tr>\n    <tr>\n      <th>...</th>\n      <td>...</td>\n      <td>...</td>\n      <td>...</td>\n      <td>...</td>\n      <td>...</td>\n      <td>...</td>\n      <td>...</td>\n      <td>...</td>\n      <td>...</td>\n      <td>...</td>\n    </tr>\n    <tr>\n      <th>150925</th>\n      <td>Italy</td>\n      <td>Many people feel Fiano represents southern Ita...</td>\n      <td>NaN</td>\n      <td>91</td>\n      <td>20.0</td>\n      <td>Southern Italy</td>\n      <td>Fiano di Avellino</td>\n      <td>NaN</td>\n      <td>White Blend</td>\n      <td>Feudi di San Gregorio</td>\n    </tr>\n    <tr>\n      <th>150926</th>\n      <td>France</td>\n      <td>Offers an intriguing nose with ginger, lime an...</td>\n      <td>Cuvée Prestige</td>\n      <td>91</td>\n      <td>27.0</td>\n      <td>Champagne</td>\n      <td>Champagne</td>\n      <td>NaN</td>\n      <td>Champagne Blend</td>\n      <td>H.Germain</td>\n    </tr>\n    <tr>\n      <th>150927</th>\n      <td>Italy</td>\n      <td>This classic example comes from a cru vineyard...</td>\n      <td>Terre di Dora</td>\n      <td>91</td>\n      <td>20.0</td>\n      <td>Southern Italy</td>\n      <td>Fiano di Avellino</td>\n      <td>NaN</td>\n      <td>White Blend</td>\n      <td>Terredora</td>\n    </tr>\n    <tr>\n      <th>150928</th>\n      <td>France</td>\n      <td>A perfect salmon shade, with scents of peaches...</td>\n      <td>Grand Brut Rosé</td>\n      <td>90</td>\n      <td>52.0</td>\n      <td>Champagne</td>\n      <td>Champagne</td>\n      <td>NaN</td>\n      <td>Champagne Blend</td>\n      <td>Gosset</td>\n    </tr>\n    <tr>\n      <th>150929</th>\n      <td>Italy</td>\n      <td>More Pinot Grigios should taste like this. A r...</td>\n      <td>NaN</td>\n      <td>90</td>\n      <td>15.0</td>\n      <td>Northeastern Italy</td>\n      <td>Alto Adige</td>\n      <td>NaN</td>\n      <td>Pinot Grigio</td>\n      <td>Alois Lageder</td>\n    </tr>\n  </tbody>\n</table>\n<p>63743 rows × 10 columns</p>\n</div>"
     },
     "execution_count": 31,
     "metadata": {},
     "output_type": "execute_result"
    }
   ],
   "source": [
    "reviews.loc[(reviews.country == 'Italy') | (reviews.points >= 90)]"
   ],
   "metadata": {
    "collapsed": false
   }
  },
  {
   "cell_type": "code",
   "execution_count": 32,
   "outputs": [
    {
     "data": {
      "text/plain": "       country                                        description   \n4       France  This is the top wine from La Bégude, named aft...  \\\n10       Italy  Elegance, complexity and structure come togeth...   \n13      France  This wine is in peak condition. The tannins an...   \n18      France  Coming from a seven-acre vineyard named after ...   \n32       Italy  Underbrush, scorched earth, menthol and plum s...   \n...        ...                                                ...   \n150925   Italy  Many people feel Fiano represents southern Ita...   \n150926  France  Offers an intriguing nose with ginger, lime an...   \n150927   Italy  This classic example comes from a cru vineyard...   \n150928  France  A perfect salmon shade, with scents of peaches...   \n150929   Italy  More Pinot Grigios should taste like this. A r...   \n\n                    designation  points  price            province   \n4                    La Brûlade      95   66.0            Provence  \\\n10           Ronco della Chiesa      95   80.0  Northeastern Italy   \n13      Château Montus Prestige      95   90.0    Southwest France   \n18                Le Pigeonnier      95  290.0    Southwest France   \n32                Vigna Piaggia      90    NaN             Tuscany   \n...                         ...     ...    ...                 ...   \n150925                      NaN      91   20.0      Southern Italy   \n150926           Cuvée Prestige      91   27.0           Champagne   \n150927            Terre di Dora      91   20.0      Southern Italy   \n150928          Grand Brut Rosé      90   52.0           Champagne   \n150929                      NaN      90   15.0  Northeastern Italy   \n\n                      region_1 region_2             variety   \n4                       Bandol      NaN  Provence red blend  \\\n10                      Collio      NaN            Friulano   \n13                     Madiran      NaN              Tannat   \n18                      Cahors      NaN              Malbec   \n32      Brunello di Montalcino      NaN          Sangiovese   \n...                        ...      ...                 ...   \n150925       Fiano di Avellino      NaN         White Blend   \n150926               Champagne      NaN     Champagne Blend   \n150927       Fiano di Avellino      NaN         White Blend   \n150928               Champagne      NaN     Champagne Blend   \n150929              Alto Adige      NaN        Pinot Grigio   \n\n                       winery  \n4        Domaine de la Bégude  \n10           Borgo del Tiglio  \n13          Vignobles Brumont  \n18         Château Lagrézette  \n32            Abbadia Ardenga  \n...                       ...  \n150925  Feudi di San Gregorio  \n150926              H.Germain  \n150927              Terredora  \n150928                 Gosset  \n150929          Alois Lageder  \n\n[44576 rows x 10 columns]",
      "text/html": "<div>\n<style scoped>\n    .dataframe tbody tr th:only-of-type {\n        vertical-align: middle;\n    }\n\n    .dataframe tbody tr th {\n        vertical-align: top;\n    }\n\n    .dataframe thead th {\n        text-align: right;\n    }\n</style>\n<table border=\"1\" class=\"dataframe\">\n  <thead>\n    <tr style=\"text-align: right;\">\n      <th></th>\n      <th>country</th>\n      <th>description</th>\n      <th>designation</th>\n      <th>points</th>\n      <th>price</th>\n      <th>province</th>\n      <th>region_1</th>\n      <th>region_2</th>\n      <th>variety</th>\n      <th>winery</th>\n    </tr>\n  </thead>\n  <tbody>\n    <tr>\n      <th>4</th>\n      <td>France</td>\n      <td>This is the top wine from La Bégude, named aft...</td>\n      <td>La Brûlade</td>\n      <td>95</td>\n      <td>66.0</td>\n      <td>Provence</td>\n      <td>Bandol</td>\n      <td>NaN</td>\n      <td>Provence red blend</td>\n      <td>Domaine de la Bégude</td>\n    </tr>\n    <tr>\n      <th>10</th>\n      <td>Italy</td>\n      <td>Elegance, complexity and structure come togeth...</td>\n      <td>Ronco della Chiesa</td>\n      <td>95</td>\n      <td>80.0</td>\n      <td>Northeastern Italy</td>\n      <td>Collio</td>\n      <td>NaN</td>\n      <td>Friulano</td>\n      <td>Borgo del Tiglio</td>\n    </tr>\n    <tr>\n      <th>13</th>\n      <td>France</td>\n      <td>This wine is in peak condition. The tannins an...</td>\n      <td>Château Montus Prestige</td>\n      <td>95</td>\n      <td>90.0</td>\n      <td>Southwest France</td>\n      <td>Madiran</td>\n      <td>NaN</td>\n      <td>Tannat</td>\n      <td>Vignobles Brumont</td>\n    </tr>\n    <tr>\n      <th>18</th>\n      <td>France</td>\n      <td>Coming from a seven-acre vineyard named after ...</td>\n      <td>Le Pigeonnier</td>\n      <td>95</td>\n      <td>290.0</td>\n      <td>Southwest France</td>\n      <td>Cahors</td>\n      <td>NaN</td>\n      <td>Malbec</td>\n      <td>Château Lagrézette</td>\n    </tr>\n    <tr>\n      <th>32</th>\n      <td>Italy</td>\n      <td>Underbrush, scorched earth, menthol and plum s...</td>\n      <td>Vigna Piaggia</td>\n      <td>90</td>\n      <td>NaN</td>\n      <td>Tuscany</td>\n      <td>Brunello di Montalcino</td>\n      <td>NaN</td>\n      <td>Sangiovese</td>\n      <td>Abbadia Ardenga</td>\n    </tr>\n    <tr>\n      <th>...</th>\n      <td>...</td>\n      <td>...</td>\n      <td>...</td>\n      <td>...</td>\n      <td>...</td>\n      <td>...</td>\n      <td>...</td>\n      <td>...</td>\n      <td>...</td>\n      <td>...</td>\n    </tr>\n    <tr>\n      <th>150925</th>\n      <td>Italy</td>\n      <td>Many people feel Fiano represents southern Ita...</td>\n      <td>NaN</td>\n      <td>91</td>\n      <td>20.0</td>\n      <td>Southern Italy</td>\n      <td>Fiano di Avellino</td>\n      <td>NaN</td>\n      <td>White Blend</td>\n      <td>Feudi di San Gregorio</td>\n    </tr>\n    <tr>\n      <th>150926</th>\n      <td>France</td>\n      <td>Offers an intriguing nose with ginger, lime an...</td>\n      <td>Cuvée Prestige</td>\n      <td>91</td>\n      <td>27.0</td>\n      <td>Champagne</td>\n      <td>Champagne</td>\n      <td>NaN</td>\n      <td>Champagne Blend</td>\n      <td>H.Germain</td>\n    </tr>\n    <tr>\n      <th>150927</th>\n      <td>Italy</td>\n      <td>This classic example comes from a cru vineyard...</td>\n      <td>Terre di Dora</td>\n      <td>91</td>\n      <td>20.0</td>\n      <td>Southern Italy</td>\n      <td>Fiano di Avellino</td>\n      <td>NaN</td>\n      <td>White Blend</td>\n      <td>Terredora</td>\n    </tr>\n    <tr>\n      <th>150928</th>\n      <td>France</td>\n      <td>A perfect salmon shade, with scents of peaches...</td>\n      <td>Grand Brut Rosé</td>\n      <td>90</td>\n      <td>52.0</td>\n      <td>Champagne</td>\n      <td>Champagne</td>\n      <td>NaN</td>\n      <td>Champagne Blend</td>\n      <td>Gosset</td>\n    </tr>\n    <tr>\n      <th>150929</th>\n      <td>Italy</td>\n      <td>More Pinot Grigios should taste like this. A r...</td>\n      <td>NaN</td>\n      <td>90</td>\n      <td>15.0</td>\n      <td>Northeastern Italy</td>\n      <td>Alto Adige</td>\n      <td>NaN</td>\n      <td>Pinot Grigio</td>\n      <td>Alois Lageder</td>\n    </tr>\n  </tbody>\n</table>\n<p>44576 rows × 10 columns</p>\n</div>"
     },
     "execution_count": 32,
     "metadata": {},
     "output_type": "execute_result"
    }
   ],
   "source": [
    "reviews.loc[reviews.country.isin(['Italy', 'France'])]"
   ],
   "metadata": {
    "collapsed": false
   }
  },
  {
   "cell_type": "code",
   "execution_count": 33,
   "outputs": [
    {
     "data": {
      "text/plain": "       country                                        description   \n0           US  This tremendous 100% varietal wine hails from ...  \\\n1        Spain  Ripe aromas of fig, blackberry and cassis are ...   \n2           US  Mac Watson honors the memory of a wine once ma...   \n3           US  This spent 20 months in 30% new French oak, an...   \n4       France  This is the top wine from La Bégude, named aft...   \n...        ...                                                ...   \n150925   Italy  Many people feel Fiano represents southern Ita...   \n150926  France  Offers an intriguing nose with ginger, lime an...   \n150927   Italy  This classic example comes from a cru vineyard...   \n150928  France  A perfect salmon shade, with scents of peaches...   \n150929   Italy  More Pinot Grigios should taste like this. A r...   \n\n                                 designation  points  price   \n0                          Martha's Vineyard      96  235.0  \\\n1       Carodorum Selección Especial Reserva      96  110.0   \n2              Special Selected Late Harvest      96   90.0   \n3                                    Reserve      96   65.0   \n4                                 La Brûlade      95   66.0   \n...                                      ...     ...    ...   \n150925                                   NaN      91   20.0   \n150926                        Cuvée Prestige      91   27.0   \n150927                         Terre di Dora      91   20.0   \n150928                       Grand Brut Rosé      90   52.0   \n150929                                   NaN      90   15.0   \n\n                  province           region_1           region_2   \n0               California        Napa Valley               Napa  \\\n1           Northern Spain               Toro                NaN   \n2               California     Knights Valley             Sonoma   \n3                   Oregon  Willamette Valley  Willamette Valley   \n4                 Provence             Bandol                NaN   \n...                    ...                ...                ...   \n150925      Southern Italy  Fiano di Avellino                NaN   \n150926           Champagne          Champagne                NaN   \n150927      Southern Italy  Fiano di Avellino                NaN   \n150928           Champagne          Champagne                NaN   \n150929  Northeastern Italy         Alto Adige                NaN   \n\n                   variety                   winery  \n0       Cabernet Sauvignon                    Heitz  \n1            Tinta de Toro  Bodega Carmen Rodríguez  \n2          Sauvignon Blanc                 Macauley  \n3               Pinot Noir                    Ponzi  \n4       Provence red blend     Domaine de la Bégude  \n...                    ...                      ...  \n150925         White Blend    Feudi di San Gregorio  \n150926     Champagne Blend                H.Germain  \n150927         White Blend                Terredora  \n150928     Champagne Blend                   Gosset  \n150929        Pinot Grigio            Alois Lageder  \n\n[137235 rows x 10 columns]",
      "text/html": "<div>\n<style scoped>\n    .dataframe tbody tr th:only-of-type {\n        vertical-align: middle;\n    }\n\n    .dataframe tbody tr th {\n        vertical-align: top;\n    }\n\n    .dataframe thead th {\n        text-align: right;\n    }\n</style>\n<table border=\"1\" class=\"dataframe\">\n  <thead>\n    <tr style=\"text-align: right;\">\n      <th></th>\n      <th>country</th>\n      <th>description</th>\n      <th>designation</th>\n      <th>points</th>\n      <th>price</th>\n      <th>province</th>\n      <th>region_1</th>\n      <th>region_2</th>\n      <th>variety</th>\n      <th>winery</th>\n    </tr>\n  </thead>\n  <tbody>\n    <tr>\n      <th>0</th>\n      <td>US</td>\n      <td>This tremendous 100% varietal wine hails from ...</td>\n      <td>Martha's Vineyard</td>\n      <td>96</td>\n      <td>235.0</td>\n      <td>California</td>\n      <td>Napa Valley</td>\n      <td>Napa</td>\n      <td>Cabernet Sauvignon</td>\n      <td>Heitz</td>\n    </tr>\n    <tr>\n      <th>1</th>\n      <td>Spain</td>\n      <td>Ripe aromas of fig, blackberry and cassis are ...</td>\n      <td>Carodorum Selección Especial Reserva</td>\n      <td>96</td>\n      <td>110.0</td>\n      <td>Northern Spain</td>\n      <td>Toro</td>\n      <td>NaN</td>\n      <td>Tinta de Toro</td>\n      <td>Bodega Carmen Rodríguez</td>\n    </tr>\n    <tr>\n      <th>2</th>\n      <td>US</td>\n      <td>Mac Watson honors the memory of a wine once ma...</td>\n      <td>Special Selected Late Harvest</td>\n      <td>96</td>\n      <td>90.0</td>\n      <td>California</td>\n      <td>Knights Valley</td>\n      <td>Sonoma</td>\n      <td>Sauvignon Blanc</td>\n      <td>Macauley</td>\n    </tr>\n    <tr>\n      <th>3</th>\n      <td>US</td>\n      <td>This spent 20 months in 30% new French oak, an...</td>\n      <td>Reserve</td>\n      <td>96</td>\n      <td>65.0</td>\n      <td>Oregon</td>\n      <td>Willamette Valley</td>\n      <td>Willamette Valley</td>\n      <td>Pinot Noir</td>\n      <td>Ponzi</td>\n    </tr>\n    <tr>\n      <th>4</th>\n      <td>France</td>\n      <td>This is the top wine from La Bégude, named aft...</td>\n      <td>La Brûlade</td>\n      <td>95</td>\n      <td>66.0</td>\n      <td>Provence</td>\n      <td>Bandol</td>\n      <td>NaN</td>\n      <td>Provence red blend</td>\n      <td>Domaine de la Bégude</td>\n    </tr>\n    <tr>\n      <th>...</th>\n      <td>...</td>\n      <td>...</td>\n      <td>...</td>\n      <td>...</td>\n      <td>...</td>\n      <td>...</td>\n      <td>...</td>\n      <td>...</td>\n      <td>...</td>\n      <td>...</td>\n    </tr>\n    <tr>\n      <th>150925</th>\n      <td>Italy</td>\n      <td>Many people feel Fiano represents southern Ita...</td>\n      <td>NaN</td>\n      <td>91</td>\n      <td>20.0</td>\n      <td>Southern Italy</td>\n      <td>Fiano di Avellino</td>\n      <td>NaN</td>\n      <td>White Blend</td>\n      <td>Feudi di San Gregorio</td>\n    </tr>\n    <tr>\n      <th>150926</th>\n      <td>France</td>\n      <td>Offers an intriguing nose with ginger, lime an...</td>\n      <td>Cuvée Prestige</td>\n      <td>91</td>\n      <td>27.0</td>\n      <td>Champagne</td>\n      <td>Champagne</td>\n      <td>NaN</td>\n      <td>Champagne Blend</td>\n      <td>H.Germain</td>\n    </tr>\n    <tr>\n      <th>150927</th>\n      <td>Italy</td>\n      <td>This classic example comes from a cru vineyard...</td>\n      <td>Terre di Dora</td>\n      <td>91</td>\n      <td>20.0</td>\n      <td>Southern Italy</td>\n      <td>Fiano di Avellino</td>\n      <td>NaN</td>\n      <td>White Blend</td>\n      <td>Terredora</td>\n    </tr>\n    <tr>\n      <th>150928</th>\n      <td>France</td>\n      <td>A perfect salmon shade, with scents of peaches...</td>\n      <td>Grand Brut Rosé</td>\n      <td>90</td>\n      <td>52.0</td>\n      <td>Champagne</td>\n      <td>Champagne</td>\n      <td>NaN</td>\n      <td>Champagne Blend</td>\n      <td>Gosset</td>\n    </tr>\n    <tr>\n      <th>150929</th>\n      <td>Italy</td>\n      <td>More Pinot Grigios should taste like this. A r...</td>\n      <td>NaN</td>\n      <td>90</td>\n      <td>15.0</td>\n      <td>Northeastern Italy</td>\n      <td>Alto Adige</td>\n      <td>NaN</td>\n      <td>Pinot Grigio</td>\n      <td>Alois Lageder</td>\n    </tr>\n  </tbody>\n</table>\n<p>137235 rows × 10 columns</p>\n</div>"
     },
     "execution_count": 33,
     "metadata": {},
     "output_type": "execute_result"
    }
   ],
   "source": [
    "reviews.loc[reviews.price.notnull()]"
   ],
   "metadata": {
    "collapsed": false
   }
  },
  {
   "cell_type": "code",
   "execution_count": 34,
   "outputs": [
    {
     "data": {
      "text/plain": "            country                                        description   \n32            Italy  Underbrush, scorched earth, menthol and plum s...  \\\n56           France  Delicious while also young and textured, this ...   \n72            Italy  This offers aromas of red rose, wild berry, da...   \n82            Italy  Berry, baking spice, dried iris, mint and a hi...   \n116           Spain  Aromas of brandied cherry and crème de cassis ...   \n...             ...                                                ...   \n150377  New Zealand  Light and a bit herbal, like a pleasant St.-Jo...   \n150378  New Zealand  Impressive purple color, but less intense on t...   \n150587       Canada  Shows pronounced oily, earthy, almost tobacco-...   \n150673           US  Cherry-scented, clean and fruity. Good concent...   \n150922        Italy  Made by 30-ish Roberta Borghese high above Man...   \n\n             designation  points  price            province   \n32         Vigna Piaggia      90    NaN             Tuscany  \\\n56               Le Pavé      90    NaN        Loire Valley   \n72        Bussia Riserva      91    NaN            Piedmont   \n82      Palliano Riserva      91    NaN            Piedmont   \n116          Dulce Tinto      86    NaN             Levante   \n...                  ...     ...    ...                 ...   \n150377          Matheson      84    NaN         Hawke's Bay   \n150378               NaN      84    NaN       Martinborough   \n150587           Icewine      90    NaN             Ontario   \n150673               NaN      87    NaN          California   \n150922         Superiore      91    NaN  Northeastern Italy   \n\n                          region_1 region_2          variety   \n32          Brunello di Montalcino      NaN       Sangiovese  \\\n56                        Sancerre      NaN  Sauvignon Blanc   \n72                          Barolo      NaN         Nebbiolo   \n82                           Roero      NaN         Nebbiolo   \n116                        Jumilla      NaN       Monastrell   \n...                            ...      ...              ...   \n150377                         NaN      NaN            Syrah   \n150378                         NaN      NaN            Syrah   \n150587       Lake Erie North Shore      NaN         Riesling   \n150673            Dry Creek Valley   Sonoma        Zinfandel   \n150922  Colli Orientali del Friuli      NaN            Tocai   \n\n                   winery  \n32        Abbadia Ardenga  \n56       Domaine Vacheron  \n72        Silvano Bolmida  \n82                  Ceste  \n116     Casa de la Ermita  \n...                   ...  \n150377       Matua Valley  \n150378             Kusuda  \n150587              Colio  \n150673        Taft Street  \n150922  Ronchi di Manzano  \n\n[13695 rows x 10 columns]",
      "text/html": "<div>\n<style scoped>\n    .dataframe tbody tr th:only-of-type {\n        vertical-align: middle;\n    }\n\n    .dataframe tbody tr th {\n        vertical-align: top;\n    }\n\n    .dataframe thead th {\n        text-align: right;\n    }\n</style>\n<table border=\"1\" class=\"dataframe\">\n  <thead>\n    <tr style=\"text-align: right;\">\n      <th></th>\n      <th>country</th>\n      <th>description</th>\n      <th>designation</th>\n      <th>points</th>\n      <th>price</th>\n      <th>province</th>\n      <th>region_1</th>\n      <th>region_2</th>\n      <th>variety</th>\n      <th>winery</th>\n    </tr>\n  </thead>\n  <tbody>\n    <tr>\n      <th>32</th>\n      <td>Italy</td>\n      <td>Underbrush, scorched earth, menthol and plum s...</td>\n      <td>Vigna Piaggia</td>\n      <td>90</td>\n      <td>NaN</td>\n      <td>Tuscany</td>\n      <td>Brunello di Montalcino</td>\n      <td>NaN</td>\n      <td>Sangiovese</td>\n      <td>Abbadia Ardenga</td>\n    </tr>\n    <tr>\n      <th>56</th>\n      <td>France</td>\n      <td>Delicious while also young and textured, this ...</td>\n      <td>Le Pavé</td>\n      <td>90</td>\n      <td>NaN</td>\n      <td>Loire Valley</td>\n      <td>Sancerre</td>\n      <td>NaN</td>\n      <td>Sauvignon Blanc</td>\n      <td>Domaine Vacheron</td>\n    </tr>\n    <tr>\n      <th>72</th>\n      <td>Italy</td>\n      <td>This offers aromas of red rose, wild berry, da...</td>\n      <td>Bussia Riserva</td>\n      <td>91</td>\n      <td>NaN</td>\n      <td>Piedmont</td>\n      <td>Barolo</td>\n      <td>NaN</td>\n      <td>Nebbiolo</td>\n      <td>Silvano Bolmida</td>\n    </tr>\n    <tr>\n      <th>82</th>\n      <td>Italy</td>\n      <td>Berry, baking spice, dried iris, mint and a hi...</td>\n      <td>Palliano Riserva</td>\n      <td>91</td>\n      <td>NaN</td>\n      <td>Piedmont</td>\n      <td>Roero</td>\n      <td>NaN</td>\n      <td>Nebbiolo</td>\n      <td>Ceste</td>\n    </tr>\n    <tr>\n      <th>116</th>\n      <td>Spain</td>\n      <td>Aromas of brandied cherry and crème de cassis ...</td>\n      <td>Dulce Tinto</td>\n      <td>86</td>\n      <td>NaN</td>\n      <td>Levante</td>\n      <td>Jumilla</td>\n      <td>NaN</td>\n      <td>Monastrell</td>\n      <td>Casa de la Ermita</td>\n    </tr>\n    <tr>\n      <th>...</th>\n      <td>...</td>\n      <td>...</td>\n      <td>...</td>\n      <td>...</td>\n      <td>...</td>\n      <td>...</td>\n      <td>...</td>\n      <td>...</td>\n      <td>...</td>\n      <td>...</td>\n    </tr>\n    <tr>\n      <th>150377</th>\n      <td>New Zealand</td>\n      <td>Light and a bit herbal, like a pleasant St.-Jo...</td>\n      <td>Matheson</td>\n      <td>84</td>\n      <td>NaN</td>\n      <td>Hawke's Bay</td>\n      <td>NaN</td>\n      <td>NaN</td>\n      <td>Syrah</td>\n      <td>Matua Valley</td>\n    </tr>\n    <tr>\n      <th>150378</th>\n      <td>New Zealand</td>\n      <td>Impressive purple color, but less intense on t...</td>\n      <td>NaN</td>\n      <td>84</td>\n      <td>NaN</td>\n      <td>Martinborough</td>\n      <td>NaN</td>\n      <td>NaN</td>\n      <td>Syrah</td>\n      <td>Kusuda</td>\n    </tr>\n    <tr>\n      <th>150587</th>\n      <td>Canada</td>\n      <td>Shows pronounced oily, earthy, almost tobacco-...</td>\n      <td>Icewine</td>\n      <td>90</td>\n      <td>NaN</td>\n      <td>Ontario</td>\n      <td>Lake Erie North Shore</td>\n      <td>NaN</td>\n      <td>Riesling</td>\n      <td>Colio</td>\n    </tr>\n    <tr>\n      <th>150673</th>\n      <td>US</td>\n      <td>Cherry-scented, clean and fruity. Good concent...</td>\n      <td>NaN</td>\n      <td>87</td>\n      <td>NaN</td>\n      <td>California</td>\n      <td>Dry Creek Valley</td>\n      <td>Sonoma</td>\n      <td>Zinfandel</td>\n      <td>Taft Street</td>\n    </tr>\n    <tr>\n      <th>150922</th>\n      <td>Italy</td>\n      <td>Made by 30-ish Roberta Borghese high above Man...</td>\n      <td>Superiore</td>\n      <td>91</td>\n      <td>NaN</td>\n      <td>Northeastern Italy</td>\n      <td>Colli Orientali del Friuli</td>\n      <td>NaN</td>\n      <td>Tocai</td>\n      <td>Ronchi di Manzano</td>\n    </tr>\n  </tbody>\n</table>\n<p>13695 rows × 10 columns</p>\n</div>"
     },
     "execution_count": 34,
     "metadata": {},
     "output_type": "execute_result"
    }
   ],
   "source": [
    "reviews.loc[reviews.price.isnull()]"
   ],
   "metadata": {
    "collapsed": false
   }
  },
  {
   "cell_type": "code",
   "execution_count": 35,
   "outputs": [],
   "source": [
    "reviews['critic'] = 'everyone'"
   ],
   "metadata": {
    "collapsed": false
   }
  },
  {
   "cell_type": "code",
   "execution_count": 36,
   "outputs": [
    {
     "data": {
      "text/plain": "  country                                        description   \n0      US  This tremendous 100% varietal wine hails from ...  \\\n1   Spain  Ripe aromas of fig, blackberry and cassis are ...   \n2      US  Mac Watson honors the memory of a wine once ma...   \n3      US  This spent 20 months in 30% new French oak, an...   \n4  France  This is the top wine from La Bégude, named aft...   \n\n                            designation  points  price        province   \n0                     Martha's Vineyard      96  235.0      California  \\\n1  Carodorum Selección Especial Reserva      96  110.0  Northern Spain   \n2         Special Selected Late Harvest      96   90.0      California   \n3                               Reserve      96   65.0          Oregon   \n4                            La Brûlade      95   66.0        Provence   \n\n            region_1           region_2             variety   \n0        Napa Valley               Napa  Cabernet Sauvignon  \\\n1               Toro                NaN       Tinta de Toro   \n2     Knights Valley             Sonoma     Sauvignon Blanc   \n3  Willamette Valley  Willamette Valley          Pinot Noir   \n4             Bandol                NaN  Provence red blend   \n\n                    winery    critic  \n0                    Heitz  everyone  \n1  Bodega Carmen Rodríguez  everyone  \n2                 Macauley  everyone  \n3                    Ponzi  everyone  \n4     Domaine de la Bégude  everyone  ",
      "text/html": "<div>\n<style scoped>\n    .dataframe tbody tr th:only-of-type {\n        vertical-align: middle;\n    }\n\n    .dataframe tbody tr th {\n        vertical-align: top;\n    }\n\n    .dataframe thead th {\n        text-align: right;\n    }\n</style>\n<table border=\"1\" class=\"dataframe\">\n  <thead>\n    <tr style=\"text-align: right;\">\n      <th></th>\n      <th>country</th>\n      <th>description</th>\n      <th>designation</th>\n      <th>points</th>\n      <th>price</th>\n      <th>province</th>\n      <th>region_1</th>\n      <th>region_2</th>\n      <th>variety</th>\n      <th>winery</th>\n      <th>critic</th>\n    </tr>\n  </thead>\n  <tbody>\n    <tr>\n      <th>0</th>\n      <td>US</td>\n      <td>This tremendous 100% varietal wine hails from ...</td>\n      <td>Martha's Vineyard</td>\n      <td>96</td>\n      <td>235.0</td>\n      <td>California</td>\n      <td>Napa Valley</td>\n      <td>Napa</td>\n      <td>Cabernet Sauvignon</td>\n      <td>Heitz</td>\n      <td>everyone</td>\n    </tr>\n    <tr>\n      <th>1</th>\n      <td>Spain</td>\n      <td>Ripe aromas of fig, blackberry and cassis are ...</td>\n      <td>Carodorum Selección Especial Reserva</td>\n      <td>96</td>\n      <td>110.0</td>\n      <td>Northern Spain</td>\n      <td>Toro</td>\n      <td>NaN</td>\n      <td>Tinta de Toro</td>\n      <td>Bodega Carmen Rodríguez</td>\n      <td>everyone</td>\n    </tr>\n    <tr>\n      <th>2</th>\n      <td>US</td>\n      <td>Mac Watson honors the memory of a wine once ma...</td>\n      <td>Special Selected Late Harvest</td>\n      <td>96</td>\n      <td>90.0</td>\n      <td>California</td>\n      <td>Knights Valley</td>\n      <td>Sonoma</td>\n      <td>Sauvignon Blanc</td>\n      <td>Macauley</td>\n      <td>everyone</td>\n    </tr>\n    <tr>\n      <th>3</th>\n      <td>US</td>\n      <td>This spent 20 months in 30% new French oak, an...</td>\n      <td>Reserve</td>\n      <td>96</td>\n      <td>65.0</td>\n      <td>Oregon</td>\n      <td>Willamette Valley</td>\n      <td>Willamette Valley</td>\n      <td>Pinot Noir</td>\n      <td>Ponzi</td>\n      <td>everyone</td>\n    </tr>\n    <tr>\n      <th>4</th>\n      <td>France</td>\n      <td>This is the top wine from La Bégude, named aft...</td>\n      <td>La Brûlade</td>\n      <td>95</td>\n      <td>66.0</td>\n      <td>Provence</td>\n      <td>Bandol</td>\n      <td>NaN</td>\n      <td>Provence red blend</td>\n      <td>Domaine de la Bégude</td>\n      <td>everyone</td>\n    </tr>\n  </tbody>\n</table>\n</div>"
     },
     "execution_count": 36,
     "metadata": {},
     "output_type": "execute_result"
    }
   ],
   "source": [
    "reviews.head()"
   ],
   "metadata": {
    "collapsed": false
   }
  },
  {
   "cell_type": "code",
   "execution_count": 37,
   "outputs": [
    {
     "data": {
      "text/plain": "  country                                        description   \n0      US  This tremendous 100% varietal wine hails from ...  \\\n1   Spain  Ripe aromas of fig, blackberry and cassis are ...   \n2      US  Mac Watson honors the memory of a wine once ma...   \n3      US  This spent 20 months in 30% new French oak, an...   \n4  France  This is the top wine from La Bégude, named aft...   \n\n                            designation  points  price        province   \n0                     Martha's Vineyard      96  235.0      California  \\\n1  Carodorum Selección Especial Reserva      96  110.0  Northern Spain   \n2         Special Selected Late Harvest      96   90.0      California   \n3                               Reserve      96   65.0          Oregon   \n4                            La Brûlade      95   66.0        Provence   \n\n            region_1           region_2             variety   \n0        Napa Valley               Napa  Cabernet Sauvignon  \\\n1               Toro                NaN       Tinta de Toro   \n2     Knights Valley             Sonoma     Sauvignon Blanc   \n3  Willamette Valley  Willamette Valley          Pinot Noir   \n4             Bandol                NaN  Provence red blend   \n\n                    winery    critic  index_backwards  \n0                    Heitz  everyone           150930  \n1  Bodega Carmen Rodríguez  everyone           150929  \n2                 Macauley  everyone           150928  \n3                    Ponzi  everyone           150927  \n4     Domaine de la Bégude  everyone           150926  ",
      "text/html": "<div>\n<style scoped>\n    .dataframe tbody tr th:only-of-type {\n        vertical-align: middle;\n    }\n\n    .dataframe tbody tr th {\n        vertical-align: top;\n    }\n\n    .dataframe thead th {\n        text-align: right;\n    }\n</style>\n<table border=\"1\" class=\"dataframe\">\n  <thead>\n    <tr style=\"text-align: right;\">\n      <th></th>\n      <th>country</th>\n      <th>description</th>\n      <th>designation</th>\n      <th>points</th>\n      <th>price</th>\n      <th>province</th>\n      <th>region_1</th>\n      <th>region_2</th>\n      <th>variety</th>\n      <th>winery</th>\n      <th>critic</th>\n      <th>index_backwards</th>\n    </tr>\n  </thead>\n  <tbody>\n    <tr>\n      <th>0</th>\n      <td>US</td>\n      <td>This tremendous 100% varietal wine hails from ...</td>\n      <td>Martha's Vineyard</td>\n      <td>96</td>\n      <td>235.0</td>\n      <td>California</td>\n      <td>Napa Valley</td>\n      <td>Napa</td>\n      <td>Cabernet Sauvignon</td>\n      <td>Heitz</td>\n      <td>everyone</td>\n      <td>150930</td>\n    </tr>\n    <tr>\n      <th>1</th>\n      <td>Spain</td>\n      <td>Ripe aromas of fig, blackberry and cassis are ...</td>\n      <td>Carodorum Selección Especial Reserva</td>\n      <td>96</td>\n      <td>110.0</td>\n      <td>Northern Spain</td>\n      <td>Toro</td>\n      <td>NaN</td>\n      <td>Tinta de Toro</td>\n      <td>Bodega Carmen Rodríguez</td>\n      <td>everyone</td>\n      <td>150929</td>\n    </tr>\n    <tr>\n      <th>2</th>\n      <td>US</td>\n      <td>Mac Watson honors the memory of a wine once ma...</td>\n      <td>Special Selected Late Harvest</td>\n      <td>96</td>\n      <td>90.0</td>\n      <td>California</td>\n      <td>Knights Valley</td>\n      <td>Sonoma</td>\n      <td>Sauvignon Blanc</td>\n      <td>Macauley</td>\n      <td>everyone</td>\n      <td>150928</td>\n    </tr>\n    <tr>\n      <th>3</th>\n      <td>US</td>\n      <td>This spent 20 months in 30% new French oak, an...</td>\n      <td>Reserve</td>\n      <td>96</td>\n      <td>65.0</td>\n      <td>Oregon</td>\n      <td>Willamette Valley</td>\n      <td>Willamette Valley</td>\n      <td>Pinot Noir</td>\n      <td>Ponzi</td>\n      <td>everyone</td>\n      <td>150927</td>\n    </tr>\n    <tr>\n      <th>4</th>\n      <td>France</td>\n      <td>This is the top wine from La Bégude, named aft...</td>\n      <td>La Brûlade</td>\n      <td>95</td>\n      <td>66.0</td>\n      <td>Provence</td>\n      <td>Bandol</td>\n      <td>NaN</td>\n      <td>Provence red blend</td>\n      <td>Domaine de la Bégude</td>\n      <td>everyone</td>\n      <td>150926</td>\n    </tr>\n  </tbody>\n</table>\n</div>"
     },
     "execution_count": 37,
     "metadata": {},
     "output_type": "execute_result"
    }
   ],
   "source": [
    "reviews['index_backwards'] = range(len(reviews), 0, -1)\n",
    "reviews.head()"
   ],
   "metadata": {
    "collapsed": false
   }
  },
  {
   "cell_type": "code",
   "execution_count": null,
   "outputs": [],
   "source": [],
   "metadata": {
    "collapsed": false
   }
  }
 ],
 "metadata": {
  "kernelspec": {
   "display_name": "Python 3",
   "language": "python",
   "name": "python3"
  },
  "language_info": {
   "codemirror_mode": {
    "name": "ipython",
    "version": 2
   },
   "file_extension": ".py",
   "mimetype": "text/x-python",
   "name": "python",
   "nbconvert_exporter": "python",
   "pygments_lexer": "ipython2",
   "version": "2.7.6"
  }
 },
 "nbformat": 4,
 "nbformat_minor": 0
}
