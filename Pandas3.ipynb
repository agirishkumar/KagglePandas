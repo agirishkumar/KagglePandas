{
 "cells": [
  {
   "cell_type": "code",
   "execution_count": 1,
   "metadata": {
    "collapsed": true
   },
   "outputs": [],
   "source": [
    "import pandas as pd"
   ]
  },
  {
   "cell_type": "code",
   "execution_count": 2,
   "outputs": [],
   "source": [
    "reviews = pd.read_csv('winemag-data_first150k.csv',index_col=0)"
   ],
   "metadata": {
    "collapsed": false
   }
  },
  {
   "cell_type": "code",
   "execution_count": 3,
   "outputs": [
    {
     "data": {
      "text/plain": "count    150930.000000\nmean         87.888418\nstd           3.222392\nmin          80.000000\n25%          86.000000\n50%          88.000000\n75%          90.000000\nmax         100.000000\nName: points, dtype: float64"
     },
     "execution_count": 3,
     "metadata": {},
     "output_type": "execute_result"
    }
   ],
   "source": [
    "reviews.points.describe()"
   ],
   "metadata": {
    "collapsed": false
   }
  },
  {
   "cell_type": "code",
   "execution_count": 4,
   "outputs": [
    {
     "data": {
      "text/plain": "count      105195\nunique      30621\ntop       Reserve\nfreq         2752\nName: designation, dtype: object"
     },
     "execution_count": 4,
     "metadata": {},
     "output_type": "execute_result"
    }
   ],
   "source": [
    "reviews.designation.describe()"
   ],
   "metadata": {
    "collapsed": false
   }
  },
  {
   "cell_type": "code",
   "execution_count": 6,
   "outputs": [
    {
     "data": {
      "text/plain": "87.8884184721394"
     },
     "execution_count": 6,
     "metadata": {},
     "output_type": "execute_result"
    }
   ],
   "source": [
    "reviews.points.mean()"
   ],
   "metadata": {
    "collapsed": false
   }
  },
  {
   "cell_type": "code",
   "execution_count": 7,
   "outputs": [
    {
     "data": {
      "text/plain": "array(['US', 'Spain', 'France', 'Italy', 'New Zealand', 'Bulgaria',\n       'Argentina', 'Australia', 'Portugal', 'Israel', 'South Africa',\n       'Greece', 'Chile', 'Morocco', 'Romania', 'Germany', 'Canada',\n       'Moldova', 'Hungary', 'Austria', 'Croatia', 'Slovenia', nan,\n       'India', 'Turkey', 'Macedonia', 'Lebanon', 'Serbia', 'Uruguay',\n       'Switzerland', 'Albania', 'Bosnia and Herzegovina', 'Brazil',\n       'Cyprus', 'Lithuania', 'Japan', 'China', 'South Korea', 'Ukraine',\n       'England', 'Mexico', 'Georgia', 'Montenegro', 'Luxembourg',\n       'Slovakia', 'Czech Republic', 'Egypt', 'Tunisia', 'US-France'],\n      dtype=object)"
     },
     "execution_count": 7,
     "metadata": {},
     "output_type": "execute_result"
    }
   ],
   "source": [
    "reviews.country.unique()"
   ],
   "metadata": {
    "collapsed": false
   }
  },
  {
   "cell_type": "code",
   "execution_count": 8,
   "outputs": [
    {
     "data": {
      "text/plain": "description\nA little bit funky and unsettled when you pop the screwcap, but soon it finds its floral, blueberry base. Remains superficial and sweet in the mouth, with candied flavors, vanilla and mild oak. Highly regular; could use more concentration and density.                                                                                                                                                                           6\nPowerful in Zinny character, this blend of Dry Creek and Russian River grapes bursts with brawny flavors of wild berries, chocolate-covered mint, tobacco and pepper, wrapped into sturdy tannins. Shows real class and character.                                                                                                                                                                                                    6\n92-94 Barrel sample. A rounded wine, its tannins submerged into the ripe fruits. It feels soft, and there is just a bite of alcohol. The structure is soft, generous, opulent.                                                                                                                                                                                                                                                        6\n86-88 This could work as a rich wine, because there is good structure and piles of botrytis. It could be delicious, with its lovely dry finish, but that's for the future.                                                                                                                                                                                                                                                            6\nSweet cherry and baking vanilla aromas are followed by layers of plum, raspberry and spice in this kosher Bordeaux blend from Israel. The wine offers firm tannins and a lingering finish.                                                                                                                                                                                                                                            5\n                                                                                                                                                                                                                                                                                                                                                                                                                                     ..\nThe nose on this blend of Syrah, Cabernet Sauvignon and Carmenère is herbal and a touch mulchy, with berry, coffee and olive aromas. The palate feels thick and on the cusp of syrupy, with baked, creamy black-fruit flavors that bring carob, chocolate and herbs accents to a modest finish. This is ripe in feel but still smells and tastes a bit herbal.                                                                        1\nThe Acrobat bottling is one of Oregon's best sub-$20 Pinot Noirs, and a fine example of what might be called “new wave” styling. It's sleek, nervy, built on a spine of steel rather than wood. The bright berry fruit carries a pleasing hint of chocolate.                                                                                                                                                                          1\nThis is one of Lynmar's most expensive Chardonnays, of their six 2011s. It's also one of the most forward and oakiest. Your first impression is of sweet buttered toast, sprinkled with brown sugar and drizzled with melted butterscotch. Then the tropical fruits kick in, brightened with citrusy acids. It's an impressive feat, but the wine feels overworked, and lacks the sustaining interest of Lynmar's other bottlings.    1\nThe nose sends up signals of a balanced, easygoing wine with oak blended nicely into pear and apple fruit. The palate is lively and mildly oaky, with baked apple, orange and woodspice flavors. A snappy, oaky finish with intense acidity closes the show.                                                                                                                                                                          1\nSmooth in the mouth, this Chard starts off with citrus and dust aromas with a light edging of cake frosting. In the mouth, it's tauter and more austere than it usually is. Clean and not a vibrant wine, but that's a matter of preference. Imported by Pernod Ricard USA.                                                                                                                                                           1\nName: count, Length: 97821, dtype: int64"
     },
     "execution_count": 8,
     "metadata": {},
     "output_type": "execute_result"
    }
   ],
   "source": [
    "reviews.description.value_counts()"
   ],
   "metadata": {
    "collapsed": false
   }
  },
  {
   "cell_type": "code",
   "execution_count": 9,
   "outputs": [
    {
     "data": {
      "text/plain": "country\nUS                        62397\nItaly                     23478\nFrance                    21098\nSpain                      8268\nChile                      5816\nArgentina                  5631\nPortugal                   5322\nAustralia                  4957\nNew Zealand                3320\nAustria                    3057\nGermany                    2452\nSouth Africa               2258\nGreece                      884\nIsrael                      630\nHungary                     231\nCanada                      196\nRomania                     139\nSlovenia                     94\nUruguay                      92\nCroatia                      89\nBulgaria                     77\nMoldova                      71\nMexico                       63\nTurkey                       52\nGeorgia                      43\nLebanon                      37\nCyprus                       31\nBrazil                       25\nMacedonia                    16\nSerbia                       14\nMorocco                      12\nEngland                       9\nLuxembourg                    9\nLithuania                     8\nIndia                         8\nCzech Republic                6\nUkraine                       5\nSwitzerland                   4\nSouth Korea                   4\nBosnia and Herzegovina        4\nChina                         3\nEgypt                         3\nSlovakia                      3\nTunisia                       2\nAlbania                       2\nMontenegro                    2\nJapan                         2\nUS-France                     1\nName: count, dtype: int64"
     },
     "execution_count": 9,
     "metadata": {},
     "output_type": "execute_result"
    }
   ],
   "source": [
    "reviews.country.value_counts()"
   ],
   "metadata": {
    "collapsed": false
   }
  },
  {
   "cell_type": "code",
   "execution_count": 10,
   "outputs": [
    {
     "data": {
      "text/plain": "points\n87     20747\n88     17871\n90     15973\n86     15573\n89     12921\n85     12411\n84     10708\n91     10536\n92      9241\n83      6048\n93      6017\n82      4041\n94      3462\n95      1716\n81      1502\n80       898\n96       695\n97       365\n98       131\n99        50\n100       24\nName: count, dtype: int64"
     },
     "execution_count": 10,
     "metadata": {},
     "output_type": "execute_result"
    }
   ],
   "source": [
    "reviews.points.value_counts()"
   ],
   "metadata": {
    "collapsed": false
   }
  },
  {
   "cell_type": "code",
   "execution_count": 11,
   "outputs": [
    {
     "data": {
      "text/plain": "0         8.111582\n1         8.111582\n2         8.111582\n3         8.111582\n4         7.111582\n            ...   \n150925    3.111582\n150926    3.111582\n150927    3.111582\n150928    2.111582\n150929    2.111582\nName: points, Length: 150930, dtype: float64"
     },
     "execution_count": 11,
     "metadata": {},
     "output_type": "execute_result"
    }
   ],
   "source": [
    "review_points_mean = reviews.points.mean()\n",
    "reviews.points.map(lambda p: p - review_points_mean)"
   ],
   "metadata": {
    "collapsed": false
   }
  },
  {
   "cell_type": "code",
   "execution_count": 12,
   "outputs": [
    {
     "data": {
      "text/plain": "       country                                        description   \n0           US  This tremendous 100% varietal wine hails from ...  \\\n1        Spain  Ripe aromas of fig, blackberry and cassis are ...   \n2           US  Mac Watson honors the memory of a wine once ma...   \n3           US  This spent 20 months in 30% new French oak, an...   \n4       France  This is the top wine from La Bégude, named aft...   \n...        ...                                                ...   \n150925   Italy  Many people feel Fiano represents southern Ita...   \n150926  France  Offers an intriguing nose with ginger, lime an...   \n150927   Italy  This classic example comes from a cru vineyard...   \n150928  France  A perfect salmon shade, with scents of peaches...   \n150929   Italy  More Pinot Grigios should taste like this. A r...   \n\n                                 designation    points  price   \n0                          Martha's Vineyard  8.111582  235.0  \\\n1       Carodorum Selección Especial Reserva  8.111582  110.0   \n2              Special Selected Late Harvest  8.111582   90.0   \n3                                    Reserve  8.111582   65.0   \n4                                 La Brûlade  7.111582   66.0   \n...                                      ...       ...    ...   \n150925                                   NaN  3.111582   20.0   \n150926                        Cuvée Prestige  3.111582   27.0   \n150927                         Terre di Dora  3.111582   20.0   \n150928                       Grand Brut Rosé  2.111582   52.0   \n150929                                   NaN  2.111582   15.0   \n\n                  province           region_1           region_2   \n0               California        Napa Valley               Napa  \\\n1           Northern Spain               Toro                NaN   \n2               California     Knights Valley             Sonoma   \n3                   Oregon  Willamette Valley  Willamette Valley   \n4                 Provence             Bandol                NaN   \n...                    ...                ...                ...   \n150925      Southern Italy  Fiano di Avellino                NaN   \n150926           Champagne          Champagne                NaN   \n150927      Southern Italy  Fiano di Avellino                NaN   \n150928           Champagne          Champagne                NaN   \n150929  Northeastern Italy         Alto Adige                NaN   \n\n                   variety                   winery  \n0       Cabernet Sauvignon                    Heitz  \n1            Tinta de Toro  Bodega Carmen Rodríguez  \n2          Sauvignon Blanc                 Macauley  \n3               Pinot Noir                    Ponzi  \n4       Provence red blend     Domaine de la Bégude  \n...                    ...                      ...  \n150925         White Blend    Feudi di San Gregorio  \n150926     Champagne Blend                H.Germain  \n150927         White Blend                Terredora  \n150928     Champagne Blend                   Gosset  \n150929        Pinot Grigio            Alois Lageder  \n\n[150930 rows x 10 columns]",
      "text/html": "<div>\n<style scoped>\n    .dataframe tbody tr th:only-of-type {\n        vertical-align: middle;\n    }\n\n    .dataframe tbody tr th {\n        vertical-align: top;\n    }\n\n    .dataframe thead th {\n        text-align: right;\n    }\n</style>\n<table border=\"1\" class=\"dataframe\">\n  <thead>\n    <tr style=\"text-align: right;\">\n      <th></th>\n      <th>country</th>\n      <th>description</th>\n      <th>designation</th>\n      <th>points</th>\n      <th>price</th>\n      <th>province</th>\n      <th>region_1</th>\n      <th>region_2</th>\n      <th>variety</th>\n      <th>winery</th>\n    </tr>\n  </thead>\n  <tbody>\n    <tr>\n      <th>0</th>\n      <td>US</td>\n      <td>This tremendous 100% varietal wine hails from ...</td>\n      <td>Martha's Vineyard</td>\n      <td>8.111582</td>\n      <td>235.0</td>\n      <td>California</td>\n      <td>Napa Valley</td>\n      <td>Napa</td>\n      <td>Cabernet Sauvignon</td>\n      <td>Heitz</td>\n    </tr>\n    <tr>\n      <th>1</th>\n      <td>Spain</td>\n      <td>Ripe aromas of fig, blackberry and cassis are ...</td>\n      <td>Carodorum Selección Especial Reserva</td>\n      <td>8.111582</td>\n      <td>110.0</td>\n      <td>Northern Spain</td>\n      <td>Toro</td>\n      <td>NaN</td>\n      <td>Tinta de Toro</td>\n      <td>Bodega Carmen Rodríguez</td>\n    </tr>\n    <tr>\n      <th>2</th>\n      <td>US</td>\n      <td>Mac Watson honors the memory of a wine once ma...</td>\n      <td>Special Selected Late Harvest</td>\n      <td>8.111582</td>\n      <td>90.0</td>\n      <td>California</td>\n      <td>Knights Valley</td>\n      <td>Sonoma</td>\n      <td>Sauvignon Blanc</td>\n      <td>Macauley</td>\n    </tr>\n    <tr>\n      <th>3</th>\n      <td>US</td>\n      <td>This spent 20 months in 30% new French oak, an...</td>\n      <td>Reserve</td>\n      <td>8.111582</td>\n      <td>65.0</td>\n      <td>Oregon</td>\n      <td>Willamette Valley</td>\n      <td>Willamette Valley</td>\n      <td>Pinot Noir</td>\n      <td>Ponzi</td>\n    </tr>\n    <tr>\n      <th>4</th>\n      <td>France</td>\n      <td>This is the top wine from La Bégude, named aft...</td>\n      <td>La Brûlade</td>\n      <td>7.111582</td>\n      <td>66.0</td>\n      <td>Provence</td>\n      <td>Bandol</td>\n      <td>NaN</td>\n      <td>Provence red blend</td>\n      <td>Domaine de la Bégude</td>\n    </tr>\n    <tr>\n      <th>...</th>\n      <td>...</td>\n      <td>...</td>\n      <td>...</td>\n      <td>...</td>\n      <td>...</td>\n      <td>...</td>\n      <td>...</td>\n      <td>...</td>\n      <td>...</td>\n      <td>...</td>\n    </tr>\n    <tr>\n      <th>150925</th>\n      <td>Italy</td>\n      <td>Many people feel Fiano represents southern Ita...</td>\n      <td>NaN</td>\n      <td>3.111582</td>\n      <td>20.0</td>\n      <td>Southern Italy</td>\n      <td>Fiano di Avellino</td>\n      <td>NaN</td>\n      <td>White Blend</td>\n      <td>Feudi di San Gregorio</td>\n    </tr>\n    <tr>\n      <th>150926</th>\n      <td>France</td>\n      <td>Offers an intriguing nose with ginger, lime an...</td>\n      <td>Cuvée Prestige</td>\n      <td>3.111582</td>\n      <td>27.0</td>\n      <td>Champagne</td>\n      <td>Champagne</td>\n      <td>NaN</td>\n      <td>Champagne Blend</td>\n      <td>H.Germain</td>\n    </tr>\n    <tr>\n      <th>150927</th>\n      <td>Italy</td>\n      <td>This classic example comes from a cru vineyard...</td>\n      <td>Terre di Dora</td>\n      <td>3.111582</td>\n      <td>20.0</td>\n      <td>Southern Italy</td>\n      <td>Fiano di Avellino</td>\n      <td>NaN</td>\n      <td>White Blend</td>\n      <td>Terredora</td>\n    </tr>\n    <tr>\n      <th>150928</th>\n      <td>France</td>\n      <td>A perfect salmon shade, with scents of peaches...</td>\n      <td>Grand Brut Rosé</td>\n      <td>2.111582</td>\n      <td>52.0</td>\n      <td>Champagne</td>\n      <td>Champagne</td>\n      <td>NaN</td>\n      <td>Champagne Blend</td>\n      <td>Gosset</td>\n    </tr>\n    <tr>\n      <th>150929</th>\n      <td>Italy</td>\n      <td>More Pinot Grigios should taste like this. A r...</td>\n      <td>NaN</td>\n      <td>2.111582</td>\n      <td>15.0</td>\n      <td>Northeastern Italy</td>\n      <td>Alto Adige</td>\n      <td>NaN</td>\n      <td>Pinot Grigio</td>\n      <td>Alois Lageder</td>\n    </tr>\n  </tbody>\n</table>\n<p>150930 rows × 10 columns</p>\n</div>"
     },
     "execution_count": 12,
     "metadata": {},
     "output_type": "execute_result"
    }
   ],
   "source": [
    "def remean_points(row):\n",
    "    row.points = row.points - review_points_mean\n",
    "    return row\n",
    "\n",
    "reviews.apply(remean_points, axis='columns')"
   ],
   "metadata": {
    "collapsed": false
   }
  },
  {
   "cell_type": "code",
   "execution_count": 13,
   "outputs": [
    {
     "data": {
      "text/plain": "0                  US - Napa Valley\n1                      Spain - Toro\n2               US - Knights Valley\n3            US - Willamette Valley\n4                   France - Bandol\n                    ...            \n150925    Italy - Fiano di Avellino\n150926           France - Champagne\n150927    Italy - Fiano di Avellino\n150928           France - Champagne\n150929           Italy - Alto Adige\nLength: 150930, dtype: object"
     },
     "execution_count": 13,
     "metadata": {},
     "output_type": "execute_result"
    }
   ],
   "source": [
    "reviews.country + \" - \" + reviews.region_1"
   ],
   "metadata": {
    "collapsed": false
   }
  },
  {
   "cell_type": "code",
   "execution_count": null,
   "outputs": [],
   "source": [],
   "metadata": {
    "collapsed": false
   }
  }
 ],
 "metadata": {
  "kernelspec": {
   "display_name": "Python 3",
   "language": "python",
   "name": "python3"
  },
  "language_info": {
   "codemirror_mode": {
    "name": "ipython",
    "version": 2
   },
   "file_extension": ".py",
   "mimetype": "text/x-python",
   "name": "python",
   "nbconvert_exporter": "python",
   "pygments_lexer": "ipython2",
   "version": "2.7.6"
  }
 },
 "nbformat": 4,
 "nbformat_minor": 0
}
