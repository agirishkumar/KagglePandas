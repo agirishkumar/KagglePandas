{
 "cells": [
  {
   "cell_type": "code",
   "execution_count": 2,
   "metadata": {
    "collapsed": true
   },
   "outputs": [],
   "source": [
    "import pandas as pd\n",
    "\n",
    "reviews = pd.read_csv('winemag-data_first150k.csv', index_col=0)"
   ]
  },
  {
   "cell_type": "code",
   "execution_count": 3,
   "outputs": [
    {
     "data": {
      "text/plain": "points\n80       898\n81      1502\n82      4041\n83      6048\n84     10708\n85     12411\n86     15573\n87     20747\n88     17871\n89     12921\n90     15973\n91     10536\n92      9241\n93      6017\n94      3462\n95      1716\n96       695\n97       365\n98       131\n99        50\n100       24\nName: points, dtype: int64"
     },
     "execution_count": 3,
     "metadata": {},
     "output_type": "execute_result"
    }
   ],
   "source": [
    "reviews.groupby('points').points.count()"
   ],
   "metadata": {
    "collapsed": false
   }
  },
  {
   "cell_type": "code",
   "execution_count": 4,
   "outputs": [
    {
     "data": {
      "text/plain": "points\n80      5.0\n81      5.0\n82      5.0\n83      4.0\n84      4.0\n85      4.0\n86      4.0\n87      6.0\n88      6.0\n89      7.0\n90      5.0\n91      8.0\n92     11.0\n93     12.0\n94     15.0\n95     20.0\n96     20.0\n97     42.0\n98     50.0\n99     65.0\n100    65.0\nName: price, dtype: float64"
     },
     "execution_count": 4,
     "metadata": {},
     "output_type": "execute_result"
    }
   ],
   "source": [
    "reviews.groupby('points').price.min()"
   ],
   "metadata": {
    "collapsed": false
   }
  },
  {
   "cell_type": "code",
   "execution_count": 6,
   "outputs": [
    {
     "data": {
      "text/plain": "winery\n'37 Cellars          The name refers to the year 1937, a classic ye...\n1+1=3                As in previous years, this wine just isn't tha...\n10 Knots             Hot in alcohol, simple in everything else, thi...\n1000 Stories         Exotically fruity with an enticing floral char...\n1040FU               Unripe, with green peppercorn and asparagus no...\n                                           ...                        \nÑandú                The lighter-style nose that focuses on red plu...\nÚnico Luis Miguel    From Ventisquero and the Mexican crooner Luis ...\nàMaurice             While this wine starts out a bit reductive, it...\náster                Coconut and saline aromas fold in toast, berry...\nŠtoka                This orange-style wine is dark straw in color ...\nLength: 14810, dtype: object"
     },
     "execution_count": 6,
     "metadata": {},
     "output_type": "execute_result"
    }
   ],
   "source": [
    "reviews.groupby('winery').apply(lambda df: df.description.iloc[0])"
   ],
   "metadata": {
    "collapsed": false
   }
  },
  {
   "cell_type": "code",
   "execution_count": 7,
   "outputs": [
    {
     "data": {
      "text/plain": "                              country   \ncountry   province                      \nAlbania   Mirditë             Albania  \\\nArgentina Mendoza Province  Argentina   \n          Other             Argentina   \nAustralia Australia Other   Australia   \n          New South Wales   Australia   \n...                               ...   \nUruguay   Juanico             Uruguay   \n          Montevideo          Uruguay   \n          Progreso            Uruguay   \n          San Jose            Uruguay   \n          Uruguay             Uruguay   \n\n                                                                  description   \ncountry   province                                                              \nAlbania   Mirditë           This garnet-colored wine made from 100% Kallme...  \\\nArgentina Mendoza Province  If the color doesn't tell the full story, the ...   \n          Other             Take note, this could be the best wine Colomé ...   \nAustralia Australia Other   This big wine presents a sophisticated bouquet...   \n          New South Wales   This wine's deep brassy color suggests honey, ...   \n...                                                                       ...   \nUruguay   Juanico           This mature Bordeaux-style blend is earthy on ...   \n          Montevideo        Bouza ranks as one of Uruguay's top wineries, ...   \n          Progreso          Blackberry and plum aromas come with wood-smok...   \n          San Jose          While this ranks as one of the best Uruguayan ...   \n          Uruguay           They call it Special Barrel, and one sniff tel...   \n\n                                                        designation  points   \ncountry   province                                                            \nAlbania   Mirditë                                               NaN      88  \\\nArgentina Mendoza Province                         Nicasia Vineyard      97   \n          Other                                             Reserva      95   \nAustralia Australia Other                                  Yattarna      92   \n          New South Wales                        Noble One Botrytis      93   \n...                                                             ...     ...   \nUruguay   Juanico                  Preludio Barrel Select Lote N 77      90   \n          Montevideo        Monte Vide Eu Tannat-Merlot-Tempranillo      90   \n          Progreso                                              RPF      89   \n          San Jose                 El Preciado Premier Gran Reserva      89   \n          Uruguay                                    Special Barrel      89   \n\n                            price          province                 region_1   \ncountry   province                                                             \nAlbania   Mirditë            20.0           Mirditë                      NaN  \\\nArgentina Mendoza Province  120.0  Mendoza Province                  Mendoza   \n          Other              90.0             Other                    Salta   \nAustralia Australia Other    65.0   Australia Other  South Eastern Australia   \n          New South Wales    32.0   New South Wales          New South Wales   \n...                           ...               ...                      ...   \nUruguay   Juanico            45.0           Juanico                      NaN   \n          Montevideo         57.0        Montevideo                      NaN   \n          Progreso           23.0          Progreso                      NaN   \n          San Jose           60.0          San Jose                      NaN   \n          Uruguay            50.0           Uruguay                      NaN   \n\n                           region_2     variety                winery  \ncountry   province                                                     \nAlbania   Mirditë               NaN     Kallmet                Arbëri  \nArgentina Mendoza Province      NaN      Malbec  Bodega Catena Zapata  \n          Other                 NaN      Malbec                Colomé  \nAustralia Australia Other       NaN  Chardonnay              Penfolds  \n          New South Wales       NaN    Sémillon            De Bortoli  \n...                             ...         ...                   ...  \nUruguay   Juanico               NaN   Red Blend        Familia Deicas  \n          Montevideo            NaN   Red Blend                 Bouza  \n          Progreso              NaN      Tannat                Pisano  \n          San Jose              NaN   Red Blend        Castillo Viejo  \n          Uruguay               NaN      Tannat                 Bouza  \n\n[455 rows x 10 columns]",
      "text/html": "<div>\n<style scoped>\n    .dataframe tbody tr th:only-of-type {\n        vertical-align: middle;\n    }\n\n    .dataframe tbody tr th {\n        vertical-align: top;\n    }\n\n    .dataframe thead th {\n        text-align: right;\n    }\n</style>\n<table border=\"1\" class=\"dataframe\">\n  <thead>\n    <tr style=\"text-align: right;\">\n      <th></th>\n      <th></th>\n      <th>country</th>\n      <th>description</th>\n      <th>designation</th>\n      <th>points</th>\n      <th>price</th>\n      <th>province</th>\n      <th>region_1</th>\n      <th>region_2</th>\n      <th>variety</th>\n      <th>winery</th>\n    </tr>\n    <tr>\n      <th>country</th>\n      <th>province</th>\n      <th></th>\n      <th></th>\n      <th></th>\n      <th></th>\n      <th></th>\n      <th></th>\n      <th></th>\n      <th></th>\n      <th></th>\n      <th></th>\n    </tr>\n  </thead>\n  <tbody>\n    <tr>\n      <th>Albania</th>\n      <th>Mirditë</th>\n      <td>Albania</td>\n      <td>This garnet-colored wine made from 100% Kallme...</td>\n      <td>NaN</td>\n      <td>88</td>\n      <td>20.0</td>\n      <td>Mirditë</td>\n      <td>NaN</td>\n      <td>NaN</td>\n      <td>Kallmet</td>\n      <td>Arbëri</td>\n    </tr>\n    <tr>\n      <th rowspan=\"2\" valign=\"top\">Argentina</th>\n      <th>Mendoza Province</th>\n      <td>Argentina</td>\n      <td>If the color doesn't tell the full story, the ...</td>\n      <td>Nicasia Vineyard</td>\n      <td>97</td>\n      <td>120.0</td>\n      <td>Mendoza Province</td>\n      <td>Mendoza</td>\n      <td>NaN</td>\n      <td>Malbec</td>\n      <td>Bodega Catena Zapata</td>\n    </tr>\n    <tr>\n      <th>Other</th>\n      <td>Argentina</td>\n      <td>Take note, this could be the best wine Colomé ...</td>\n      <td>Reserva</td>\n      <td>95</td>\n      <td>90.0</td>\n      <td>Other</td>\n      <td>Salta</td>\n      <td>NaN</td>\n      <td>Malbec</td>\n      <td>Colomé</td>\n    </tr>\n    <tr>\n      <th rowspan=\"2\" valign=\"top\">Australia</th>\n      <th>Australia Other</th>\n      <td>Australia</td>\n      <td>This big wine presents a sophisticated bouquet...</td>\n      <td>Yattarna</td>\n      <td>92</td>\n      <td>65.0</td>\n      <td>Australia Other</td>\n      <td>South Eastern Australia</td>\n      <td>NaN</td>\n      <td>Chardonnay</td>\n      <td>Penfolds</td>\n    </tr>\n    <tr>\n      <th>New South Wales</th>\n      <td>Australia</td>\n      <td>This wine's deep brassy color suggests honey, ...</td>\n      <td>Noble One Botrytis</td>\n      <td>93</td>\n      <td>32.0</td>\n      <td>New South Wales</td>\n      <td>New South Wales</td>\n      <td>NaN</td>\n      <td>Sémillon</td>\n      <td>De Bortoli</td>\n    </tr>\n    <tr>\n      <th>...</th>\n      <th>...</th>\n      <td>...</td>\n      <td>...</td>\n      <td>...</td>\n      <td>...</td>\n      <td>...</td>\n      <td>...</td>\n      <td>...</td>\n      <td>...</td>\n      <td>...</td>\n      <td>...</td>\n    </tr>\n    <tr>\n      <th rowspan=\"5\" valign=\"top\">Uruguay</th>\n      <th>Juanico</th>\n      <td>Uruguay</td>\n      <td>This mature Bordeaux-style blend is earthy on ...</td>\n      <td>Preludio Barrel Select Lote N 77</td>\n      <td>90</td>\n      <td>45.0</td>\n      <td>Juanico</td>\n      <td>NaN</td>\n      <td>NaN</td>\n      <td>Red Blend</td>\n      <td>Familia Deicas</td>\n    </tr>\n    <tr>\n      <th>Montevideo</th>\n      <td>Uruguay</td>\n      <td>Bouza ranks as one of Uruguay's top wineries, ...</td>\n      <td>Monte Vide Eu Tannat-Merlot-Tempranillo</td>\n      <td>90</td>\n      <td>57.0</td>\n      <td>Montevideo</td>\n      <td>NaN</td>\n      <td>NaN</td>\n      <td>Red Blend</td>\n      <td>Bouza</td>\n    </tr>\n    <tr>\n      <th>Progreso</th>\n      <td>Uruguay</td>\n      <td>Blackberry and plum aromas come with wood-smok...</td>\n      <td>RPF</td>\n      <td>89</td>\n      <td>23.0</td>\n      <td>Progreso</td>\n      <td>NaN</td>\n      <td>NaN</td>\n      <td>Tannat</td>\n      <td>Pisano</td>\n    </tr>\n    <tr>\n      <th>San Jose</th>\n      <td>Uruguay</td>\n      <td>While this ranks as one of the best Uruguayan ...</td>\n      <td>El Preciado Premier Gran Reserva</td>\n      <td>89</td>\n      <td>60.0</td>\n      <td>San Jose</td>\n      <td>NaN</td>\n      <td>NaN</td>\n      <td>Red Blend</td>\n      <td>Castillo Viejo</td>\n    </tr>\n    <tr>\n      <th>Uruguay</th>\n      <td>Uruguay</td>\n      <td>They call it Special Barrel, and one sniff tel...</td>\n      <td>Special Barrel</td>\n      <td>89</td>\n      <td>50.0</td>\n      <td>Uruguay</td>\n      <td>NaN</td>\n      <td>NaN</td>\n      <td>Tannat</td>\n      <td>Bouza</td>\n    </tr>\n  </tbody>\n</table>\n<p>455 rows × 10 columns</p>\n</div>"
     },
     "execution_count": 7,
     "metadata": {},
     "output_type": "execute_result"
    }
   ],
   "source": [
    "reviews.groupby(['country', 'province']).apply(lambda df: df.loc[df.points.idxmax()])"
   ],
   "metadata": {
    "collapsed": false
   }
  },
  {
   "cell_type": "code",
   "execution_count": 8,
   "outputs": [
    {
     "data": {
      "text/plain": "                          len   min     max\ncountry                                    \nAlbania                     2  20.0    20.0\nArgentina                5631   4.0   250.0\nAustralia                4957   5.0   850.0\nAustria                  3057   8.0  1100.0\nBosnia and Herzegovina      4  12.0    13.0\nBrazil                     25  11.0    35.0\nBulgaria                   77   7.0    28.0\nCanada                    196  12.0   145.0\nChile                    5816   5.0   400.0\nChina                       3   7.0    27.0\nCroatia                    89  12.0    65.0\nCyprus                     31  10.0    22.0\nCzech Republic              6  15.0    25.0\nEgypt                       3   NaN     NaN\nEngland                     9  38.0    75.0\nFrance                  21098   5.0  2300.0\nGeorgia                    43   9.0    40.0\nGermany                  2452   5.0   775.0\nGreece                    884   7.0   120.0\nHungary                   231   7.0   764.0\nIndia                       8  10.0    20.0\nIsrael                    630   8.0   150.0\nItaly                   23478   5.0   900.0\nJapan                       2  24.0    24.0\nLebanon                    37  12.0    51.0\nLithuania                   8  10.0    10.0\nLuxembourg                  9  36.0    50.0\nMacedonia                  16  12.0    25.0\nMexico                     63  12.0   108.0\nMoldova                    71   8.0    42.0\nMontenegro                  2  10.0    10.0\nMorocco                    12   6.0    35.0\nNew Zealand              3320   7.0   125.0\nPortugal                 5322   4.0   980.0\nRomania                   139   4.0   320.0\nSerbia                     14  15.0    42.0\nSlovakia                    3  15.0    16.0\nSlovenia                   94   7.0    90.0\nSouth Africa             2258   5.0   145.0\nSouth Korea                 4  11.0    16.0\nSpain                    8268   4.0   770.0\nSwitzerland                 4  19.0    38.0\nTunisia                     2   NaN     NaN\nTurkey                     52  14.0   120.0\nUS                      62397   4.0  2013.0\nUS-France                   1  50.0    50.0\nUkraine                     5  13.0    13.0\nUruguay                    92   7.0    60.0",
      "text/html": "<div>\n<style scoped>\n    .dataframe tbody tr th:only-of-type {\n        vertical-align: middle;\n    }\n\n    .dataframe tbody tr th {\n        vertical-align: top;\n    }\n\n    .dataframe thead th {\n        text-align: right;\n    }\n</style>\n<table border=\"1\" class=\"dataframe\">\n  <thead>\n    <tr style=\"text-align: right;\">\n      <th></th>\n      <th>len</th>\n      <th>min</th>\n      <th>max</th>\n    </tr>\n    <tr>\n      <th>country</th>\n      <th></th>\n      <th></th>\n      <th></th>\n    </tr>\n  </thead>\n  <tbody>\n    <tr>\n      <th>Albania</th>\n      <td>2</td>\n      <td>20.0</td>\n      <td>20.0</td>\n    </tr>\n    <tr>\n      <th>Argentina</th>\n      <td>5631</td>\n      <td>4.0</td>\n      <td>250.0</td>\n    </tr>\n    <tr>\n      <th>Australia</th>\n      <td>4957</td>\n      <td>5.0</td>\n      <td>850.0</td>\n    </tr>\n    <tr>\n      <th>Austria</th>\n      <td>3057</td>\n      <td>8.0</td>\n      <td>1100.0</td>\n    </tr>\n    <tr>\n      <th>Bosnia and Herzegovina</th>\n      <td>4</td>\n      <td>12.0</td>\n      <td>13.0</td>\n    </tr>\n    <tr>\n      <th>Brazil</th>\n      <td>25</td>\n      <td>11.0</td>\n      <td>35.0</td>\n    </tr>\n    <tr>\n      <th>Bulgaria</th>\n      <td>77</td>\n      <td>7.0</td>\n      <td>28.0</td>\n    </tr>\n    <tr>\n      <th>Canada</th>\n      <td>196</td>\n      <td>12.0</td>\n      <td>145.0</td>\n    </tr>\n    <tr>\n      <th>Chile</th>\n      <td>5816</td>\n      <td>5.0</td>\n      <td>400.0</td>\n    </tr>\n    <tr>\n      <th>China</th>\n      <td>3</td>\n      <td>7.0</td>\n      <td>27.0</td>\n    </tr>\n    <tr>\n      <th>Croatia</th>\n      <td>89</td>\n      <td>12.0</td>\n      <td>65.0</td>\n    </tr>\n    <tr>\n      <th>Cyprus</th>\n      <td>31</td>\n      <td>10.0</td>\n      <td>22.0</td>\n    </tr>\n    <tr>\n      <th>Czech Republic</th>\n      <td>6</td>\n      <td>15.0</td>\n      <td>25.0</td>\n    </tr>\n    <tr>\n      <th>Egypt</th>\n      <td>3</td>\n      <td>NaN</td>\n      <td>NaN</td>\n    </tr>\n    <tr>\n      <th>England</th>\n      <td>9</td>\n      <td>38.0</td>\n      <td>75.0</td>\n    </tr>\n    <tr>\n      <th>France</th>\n      <td>21098</td>\n      <td>5.0</td>\n      <td>2300.0</td>\n    </tr>\n    <tr>\n      <th>Georgia</th>\n      <td>43</td>\n      <td>9.0</td>\n      <td>40.0</td>\n    </tr>\n    <tr>\n      <th>Germany</th>\n      <td>2452</td>\n      <td>5.0</td>\n      <td>775.0</td>\n    </tr>\n    <tr>\n      <th>Greece</th>\n      <td>884</td>\n      <td>7.0</td>\n      <td>120.0</td>\n    </tr>\n    <tr>\n      <th>Hungary</th>\n      <td>231</td>\n      <td>7.0</td>\n      <td>764.0</td>\n    </tr>\n    <tr>\n      <th>India</th>\n      <td>8</td>\n      <td>10.0</td>\n      <td>20.0</td>\n    </tr>\n    <tr>\n      <th>Israel</th>\n      <td>630</td>\n      <td>8.0</td>\n      <td>150.0</td>\n    </tr>\n    <tr>\n      <th>Italy</th>\n      <td>23478</td>\n      <td>5.0</td>\n      <td>900.0</td>\n    </tr>\n    <tr>\n      <th>Japan</th>\n      <td>2</td>\n      <td>24.0</td>\n      <td>24.0</td>\n    </tr>\n    <tr>\n      <th>Lebanon</th>\n      <td>37</td>\n      <td>12.0</td>\n      <td>51.0</td>\n    </tr>\n    <tr>\n      <th>Lithuania</th>\n      <td>8</td>\n      <td>10.0</td>\n      <td>10.0</td>\n    </tr>\n    <tr>\n      <th>Luxembourg</th>\n      <td>9</td>\n      <td>36.0</td>\n      <td>50.0</td>\n    </tr>\n    <tr>\n      <th>Macedonia</th>\n      <td>16</td>\n      <td>12.0</td>\n      <td>25.0</td>\n    </tr>\n    <tr>\n      <th>Mexico</th>\n      <td>63</td>\n      <td>12.0</td>\n      <td>108.0</td>\n    </tr>\n    <tr>\n      <th>Moldova</th>\n      <td>71</td>\n      <td>8.0</td>\n      <td>42.0</td>\n    </tr>\n    <tr>\n      <th>Montenegro</th>\n      <td>2</td>\n      <td>10.0</td>\n      <td>10.0</td>\n    </tr>\n    <tr>\n      <th>Morocco</th>\n      <td>12</td>\n      <td>6.0</td>\n      <td>35.0</td>\n    </tr>\n    <tr>\n      <th>New Zealand</th>\n      <td>3320</td>\n      <td>7.0</td>\n      <td>125.0</td>\n    </tr>\n    <tr>\n      <th>Portugal</th>\n      <td>5322</td>\n      <td>4.0</td>\n      <td>980.0</td>\n    </tr>\n    <tr>\n      <th>Romania</th>\n      <td>139</td>\n      <td>4.0</td>\n      <td>320.0</td>\n    </tr>\n    <tr>\n      <th>Serbia</th>\n      <td>14</td>\n      <td>15.0</td>\n      <td>42.0</td>\n    </tr>\n    <tr>\n      <th>Slovakia</th>\n      <td>3</td>\n      <td>15.0</td>\n      <td>16.0</td>\n    </tr>\n    <tr>\n      <th>Slovenia</th>\n      <td>94</td>\n      <td>7.0</td>\n      <td>90.0</td>\n    </tr>\n    <tr>\n      <th>South Africa</th>\n      <td>2258</td>\n      <td>5.0</td>\n      <td>145.0</td>\n    </tr>\n    <tr>\n      <th>South Korea</th>\n      <td>4</td>\n      <td>11.0</td>\n      <td>16.0</td>\n    </tr>\n    <tr>\n      <th>Spain</th>\n      <td>8268</td>\n      <td>4.0</td>\n      <td>770.0</td>\n    </tr>\n    <tr>\n      <th>Switzerland</th>\n      <td>4</td>\n      <td>19.0</td>\n      <td>38.0</td>\n    </tr>\n    <tr>\n      <th>Tunisia</th>\n      <td>2</td>\n      <td>NaN</td>\n      <td>NaN</td>\n    </tr>\n    <tr>\n      <th>Turkey</th>\n      <td>52</td>\n      <td>14.0</td>\n      <td>120.0</td>\n    </tr>\n    <tr>\n      <th>US</th>\n      <td>62397</td>\n      <td>4.0</td>\n      <td>2013.0</td>\n    </tr>\n    <tr>\n      <th>US-France</th>\n      <td>1</td>\n      <td>50.0</td>\n      <td>50.0</td>\n    </tr>\n    <tr>\n      <th>Ukraine</th>\n      <td>5</td>\n      <td>13.0</td>\n      <td>13.0</td>\n    </tr>\n    <tr>\n      <th>Uruguay</th>\n      <td>92</td>\n      <td>7.0</td>\n      <td>60.0</td>\n    </tr>\n  </tbody>\n</table>\n</div>"
     },
     "execution_count": 8,
     "metadata": {},
     "output_type": "execute_result"
    }
   ],
   "source": [
    "reviews.groupby(['country']).price.agg([len, min, max])"
   ],
   "metadata": {
    "collapsed": false
   }
  },
  {
   "cell_type": "code",
   "execution_count": 9,
   "outputs": [
    {
     "data": {
      "text/plain": "                             len\ncountry   province              \nAlbania   Mirditë              2\nArgentina Mendoza Province  4742\n          Other              889\nAustralia Australia Other    553\n          New South Wales    246\n...                          ...\nUruguay   Juanico             19\n          Montevideo           3\n          Progreso             5\n          San Jose            15\n          Uruguay             18\n\n[455 rows x 1 columns]",
      "text/html": "<div>\n<style scoped>\n    .dataframe tbody tr th:only-of-type {\n        vertical-align: middle;\n    }\n\n    .dataframe tbody tr th {\n        vertical-align: top;\n    }\n\n    .dataframe thead th {\n        text-align: right;\n    }\n</style>\n<table border=\"1\" class=\"dataframe\">\n  <thead>\n    <tr style=\"text-align: right;\">\n      <th></th>\n      <th></th>\n      <th>len</th>\n    </tr>\n    <tr>\n      <th>country</th>\n      <th>province</th>\n      <th></th>\n    </tr>\n  </thead>\n  <tbody>\n    <tr>\n      <th>Albania</th>\n      <th>Mirditë</th>\n      <td>2</td>\n    </tr>\n    <tr>\n      <th rowspan=\"2\" valign=\"top\">Argentina</th>\n      <th>Mendoza Province</th>\n      <td>4742</td>\n    </tr>\n    <tr>\n      <th>Other</th>\n      <td>889</td>\n    </tr>\n    <tr>\n      <th rowspan=\"2\" valign=\"top\">Australia</th>\n      <th>Australia Other</th>\n      <td>553</td>\n    </tr>\n    <tr>\n      <th>New South Wales</th>\n      <td>246</td>\n    </tr>\n    <tr>\n      <th>...</th>\n      <th>...</th>\n      <td>...</td>\n    </tr>\n    <tr>\n      <th rowspan=\"5\" valign=\"top\">Uruguay</th>\n      <th>Juanico</th>\n      <td>19</td>\n    </tr>\n    <tr>\n      <th>Montevideo</th>\n      <td>3</td>\n    </tr>\n    <tr>\n      <th>Progreso</th>\n      <td>5</td>\n    </tr>\n    <tr>\n      <th>San Jose</th>\n      <td>15</td>\n    </tr>\n    <tr>\n      <th>Uruguay</th>\n      <td>18</td>\n    </tr>\n  </tbody>\n</table>\n<p>455 rows × 1 columns</p>\n</div>"
     },
     "execution_count": 9,
     "metadata": {},
     "output_type": "execute_result"
    }
   ],
   "source": [
    "countries_reviewed = reviews.groupby(['country', 'province']).description.agg([len])\n",
    "countries_reviewed"
   ],
   "metadata": {
    "collapsed": false
   }
  },
  {
   "cell_type": "code",
   "execution_count": 10,
   "outputs": [
    {
     "data": {
      "text/plain": "pandas.core.indexes.multi.MultiIndex"
     },
     "execution_count": 10,
     "metadata": {},
     "output_type": "execute_result"
    }
   ],
   "source": [
    "mi = countries_reviewed.index\n",
    "type(mi)"
   ],
   "metadata": {
    "collapsed": false
   }
  },
  {
   "cell_type": "code",
   "execution_count": 11,
   "outputs": [
    {
     "data": {
      "text/plain": "       country          province   len\n0      Albania           Mirditë     2\n1    Argentina  Mendoza Province  4742\n2    Argentina             Other   889\n3    Australia   Australia Other   553\n4    Australia   New South Wales   246\n..         ...               ...   ...\n450    Uruguay           Juanico    19\n451    Uruguay        Montevideo     3\n452    Uruguay          Progreso     5\n453    Uruguay          San Jose    15\n454    Uruguay           Uruguay    18\n\n[455 rows x 3 columns]",
      "text/html": "<div>\n<style scoped>\n    .dataframe tbody tr th:only-of-type {\n        vertical-align: middle;\n    }\n\n    .dataframe tbody tr th {\n        vertical-align: top;\n    }\n\n    .dataframe thead th {\n        text-align: right;\n    }\n</style>\n<table border=\"1\" class=\"dataframe\">\n  <thead>\n    <tr style=\"text-align: right;\">\n      <th></th>\n      <th>country</th>\n      <th>province</th>\n      <th>len</th>\n    </tr>\n  </thead>\n  <tbody>\n    <tr>\n      <th>0</th>\n      <td>Albania</td>\n      <td>Mirditë</td>\n      <td>2</td>\n    </tr>\n    <tr>\n      <th>1</th>\n      <td>Argentina</td>\n      <td>Mendoza Province</td>\n      <td>4742</td>\n    </tr>\n    <tr>\n      <th>2</th>\n      <td>Argentina</td>\n      <td>Other</td>\n      <td>889</td>\n    </tr>\n    <tr>\n      <th>3</th>\n      <td>Australia</td>\n      <td>Australia Other</td>\n      <td>553</td>\n    </tr>\n    <tr>\n      <th>4</th>\n      <td>Australia</td>\n      <td>New South Wales</td>\n      <td>246</td>\n    </tr>\n    <tr>\n      <th>...</th>\n      <td>...</td>\n      <td>...</td>\n      <td>...</td>\n    </tr>\n    <tr>\n      <th>450</th>\n      <td>Uruguay</td>\n      <td>Juanico</td>\n      <td>19</td>\n    </tr>\n    <tr>\n      <th>451</th>\n      <td>Uruguay</td>\n      <td>Montevideo</td>\n      <td>3</td>\n    </tr>\n    <tr>\n      <th>452</th>\n      <td>Uruguay</td>\n      <td>Progreso</td>\n      <td>5</td>\n    </tr>\n    <tr>\n      <th>453</th>\n      <td>Uruguay</td>\n      <td>San Jose</td>\n      <td>15</td>\n    </tr>\n    <tr>\n      <th>454</th>\n      <td>Uruguay</td>\n      <td>Uruguay</td>\n      <td>18</td>\n    </tr>\n  </tbody>\n</table>\n<p>455 rows × 3 columns</p>\n</div>"
     },
     "execution_count": 11,
     "metadata": {},
     "output_type": "execute_result"
    }
   ],
   "source": [
    "countries_reviewed.reset_index()"
   ],
   "metadata": {
    "collapsed": false
   }
  },
  {
   "cell_type": "code",
   "execution_count": 12,
   "outputs": [
    {
     "data": {
      "text/plain": "      country         province    len\n154    Greece   Central Greece      1\n207    Greece            Zitsa      1\n115    Cyprus            Pafos      1\n362  Slovenia  Slovenska Istra      1\n213   Hungary           Pannon      1\n..        ...              ...    ...\n407     Spain   Northern Spain   4892\n122    France         Bordeaux   6111\n242     Italy          Tuscany   7281\n442        US       Washington   9750\n422        US       California  44508\n\n[455 rows x 3 columns]",
      "text/html": "<div>\n<style scoped>\n    .dataframe tbody tr th:only-of-type {\n        vertical-align: middle;\n    }\n\n    .dataframe tbody tr th {\n        vertical-align: top;\n    }\n\n    .dataframe thead th {\n        text-align: right;\n    }\n</style>\n<table border=\"1\" class=\"dataframe\">\n  <thead>\n    <tr style=\"text-align: right;\">\n      <th></th>\n      <th>country</th>\n      <th>province</th>\n      <th>len</th>\n    </tr>\n  </thead>\n  <tbody>\n    <tr>\n      <th>154</th>\n      <td>Greece</td>\n      <td>Central Greece</td>\n      <td>1</td>\n    </tr>\n    <tr>\n      <th>207</th>\n      <td>Greece</td>\n      <td>Zitsa</td>\n      <td>1</td>\n    </tr>\n    <tr>\n      <th>115</th>\n      <td>Cyprus</td>\n      <td>Pafos</td>\n      <td>1</td>\n    </tr>\n    <tr>\n      <th>362</th>\n      <td>Slovenia</td>\n      <td>Slovenska Istra</td>\n      <td>1</td>\n    </tr>\n    <tr>\n      <th>213</th>\n      <td>Hungary</td>\n      <td>Pannon</td>\n      <td>1</td>\n    </tr>\n    <tr>\n      <th>...</th>\n      <td>...</td>\n      <td>...</td>\n      <td>...</td>\n    </tr>\n    <tr>\n      <th>407</th>\n      <td>Spain</td>\n      <td>Northern Spain</td>\n      <td>4892</td>\n    </tr>\n    <tr>\n      <th>122</th>\n      <td>France</td>\n      <td>Bordeaux</td>\n      <td>6111</td>\n    </tr>\n    <tr>\n      <th>242</th>\n      <td>Italy</td>\n      <td>Tuscany</td>\n      <td>7281</td>\n    </tr>\n    <tr>\n      <th>442</th>\n      <td>US</td>\n      <td>Washington</td>\n      <td>9750</td>\n    </tr>\n    <tr>\n      <th>422</th>\n      <td>US</td>\n      <td>California</td>\n      <td>44508</td>\n    </tr>\n  </tbody>\n</table>\n<p>455 rows × 3 columns</p>\n</div>"
     },
     "execution_count": 12,
     "metadata": {},
     "output_type": "execute_result"
    }
   ],
   "source": [
    "countries_reviewed = countries_reviewed.reset_index()\n",
    "countries_reviewed.sort_values(by='len')"
   ],
   "metadata": {
    "collapsed": false
   }
  },
  {
   "cell_type": "code",
   "execution_count": 13,
   "outputs": [
    {
     "data": {
      "text/plain": "         country                                province    len\n422           US                              California  44508\n442           US                              Washington   9750\n242        Italy                                 Tuscany   7281\n122       France                                Bordeaux   6111\n407        Spain                          Northern Spain   4892\n..           ...                                     ...    ...\n410  Switzerland                               Neuchâtel      1\n411  Switzerland                                  Ticino      1\n412  Switzerland                                  Valais      1\n413  Switzerland  Vino da Tavola della Svizzera Italiana      1\n175       Greece                          Krania Olympus      1\n\n[455 rows x 3 columns]",
      "text/html": "<div>\n<style scoped>\n    .dataframe tbody tr th:only-of-type {\n        vertical-align: middle;\n    }\n\n    .dataframe tbody tr th {\n        vertical-align: top;\n    }\n\n    .dataframe thead th {\n        text-align: right;\n    }\n</style>\n<table border=\"1\" class=\"dataframe\">\n  <thead>\n    <tr style=\"text-align: right;\">\n      <th></th>\n      <th>country</th>\n      <th>province</th>\n      <th>len</th>\n    </tr>\n  </thead>\n  <tbody>\n    <tr>\n      <th>422</th>\n      <td>US</td>\n      <td>California</td>\n      <td>44508</td>\n    </tr>\n    <tr>\n      <th>442</th>\n      <td>US</td>\n      <td>Washington</td>\n      <td>9750</td>\n    </tr>\n    <tr>\n      <th>242</th>\n      <td>Italy</td>\n      <td>Tuscany</td>\n      <td>7281</td>\n    </tr>\n    <tr>\n      <th>122</th>\n      <td>France</td>\n      <td>Bordeaux</td>\n      <td>6111</td>\n    </tr>\n    <tr>\n      <th>407</th>\n      <td>Spain</td>\n      <td>Northern Spain</td>\n      <td>4892</td>\n    </tr>\n    <tr>\n      <th>...</th>\n      <td>...</td>\n      <td>...</td>\n      <td>...</td>\n    </tr>\n    <tr>\n      <th>410</th>\n      <td>Switzerland</td>\n      <td>Neuchâtel</td>\n      <td>1</td>\n    </tr>\n    <tr>\n      <th>411</th>\n      <td>Switzerland</td>\n      <td>Ticino</td>\n      <td>1</td>\n    </tr>\n    <tr>\n      <th>412</th>\n      <td>Switzerland</td>\n      <td>Valais</td>\n      <td>1</td>\n    </tr>\n    <tr>\n      <th>413</th>\n      <td>Switzerland</td>\n      <td>Vino da Tavola della Svizzera Italiana</td>\n      <td>1</td>\n    </tr>\n    <tr>\n      <th>175</th>\n      <td>Greece</td>\n      <td>Krania Olympus</td>\n      <td>1</td>\n    </tr>\n  </tbody>\n</table>\n<p>455 rows × 3 columns</p>\n</div>"
     },
     "execution_count": 13,
     "metadata": {},
     "output_type": "execute_result"
    }
   ],
   "source": [
    "countries_reviewed.sort_values(by='len', ascending=False)"
   ],
   "metadata": {
    "collapsed": false
   }
  },
  {
   "cell_type": "code",
   "execution_count": 14,
   "outputs": [
    {
     "data": {
      "text/plain": "       country          province   len\n0      Albania           Mirditë     2\n1    Argentina  Mendoza Province  4742\n2    Argentina             Other   889\n3    Australia   Australia Other   553\n4    Australia   New South Wales   246\n..         ...               ...   ...\n450    Uruguay           Juanico    19\n451    Uruguay        Montevideo     3\n452    Uruguay          Progreso     5\n453    Uruguay          San Jose    15\n454    Uruguay           Uruguay    18\n\n[455 rows x 3 columns]",
      "text/html": "<div>\n<style scoped>\n    .dataframe tbody tr th:only-of-type {\n        vertical-align: middle;\n    }\n\n    .dataframe tbody tr th {\n        vertical-align: top;\n    }\n\n    .dataframe thead th {\n        text-align: right;\n    }\n</style>\n<table border=\"1\" class=\"dataframe\">\n  <thead>\n    <tr style=\"text-align: right;\">\n      <th></th>\n      <th>country</th>\n      <th>province</th>\n      <th>len</th>\n    </tr>\n  </thead>\n  <tbody>\n    <tr>\n      <th>0</th>\n      <td>Albania</td>\n      <td>Mirditë</td>\n      <td>2</td>\n    </tr>\n    <tr>\n      <th>1</th>\n      <td>Argentina</td>\n      <td>Mendoza Province</td>\n      <td>4742</td>\n    </tr>\n    <tr>\n      <th>2</th>\n      <td>Argentina</td>\n      <td>Other</td>\n      <td>889</td>\n    </tr>\n    <tr>\n      <th>3</th>\n      <td>Australia</td>\n      <td>Australia Other</td>\n      <td>553</td>\n    </tr>\n    <tr>\n      <th>4</th>\n      <td>Australia</td>\n      <td>New South Wales</td>\n      <td>246</td>\n    </tr>\n    <tr>\n      <th>...</th>\n      <td>...</td>\n      <td>...</td>\n      <td>...</td>\n    </tr>\n    <tr>\n      <th>450</th>\n      <td>Uruguay</td>\n      <td>Juanico</td>\n      <td>19</td>\n    </tr>\n    <tr>\n      <th>451</th>\n      <td>Uruguay</td>\n      <td>Montevideo</td>\n      <td>3</td>\n    </tr>\n    <tr>\n      <th>452</th>\n      <td>Uruguay</td>\n      <td>Progreso</td>\n      <td>5</td>\n    </tr>\n    <tr>\n      <th>453</th>\n      <td>Uruguay</td>\n      <td>San Jose</td>\n      <td>15</td>\n    </tr>\n    <tr>\n      <th>454</th>\n      <td>Uruguay</td>\n      <td>Uruguay</td>\n      <td>18</td>\n    </tr>\n  </tbody>\n</table>\n<p>455 rows × 3 columns</p>\n</div>"
     },
     "execution_count": 14,
     "metadata": {},
     "output_type": "execute_result"
    }
   ],
   "source": [
    "countries_reviewed.sort_index()"
   ],
   "metadata": {
    "collapsed": false
   }
  },
  {
   "cell_type": "code",
   "execution_count": 17,
   "outputs": [
    {
     "data": {
      "text/plain": "       country          province   len\n0      Albania           Mirditë     2\n2    Argentina             Other   889\n1    Argentina  Mendoza Province  4742\n5    Australia        Queensland     3\n7    Australia          Tasmania    47\n..         ...               ...   ...\n448    Uruguay           Colonia     6\n453    Uruguay          San Jose    15\n454    Uruguay           Uruguay    18\n447    Uruguay         Canelones    19\n450    Uruguay           Juanico    19\n\n[455 rows x 3 columns]",
      "text/html": "<div>\n<style scoped>\n    .dataframe tbody tr th:only-of-type {\n        vertical-align: middle;\n    }\n\n    .dataframe tbody tr th {\n        vertical-align: top;\n    }\n\n    .dataframe thead th {\n        text-align: right;\n    }\n</style>\n<table border=\"1\" class=\"dataframe\">\n  <thead>\n    <tr style=\"text-align: right;\">\n      <th></th>\n      <th>country</th>\n      <th>province</th>\n      <th>len</th>\n    </tr>\n  </thead>\n  <tbody>\n    <tr>\n      <th>0</th>\n      <td>Albania</td>\n      <td>Mirditë</td>\n      <td>2</td>\n    </tr>\n    <tr>\n      <th>2</th>\n      <td>Argentina</td>\n      <td>Other</td>\n      <td>889</td>\n    </tr>\n    <tr>\n      <th>1</th>\n      <td>Argentina</td>\n      <td>Mendoza Province</td>\n      <td>4742</td>\n    </tr>\n    <tr>\n      <th>5</th>\n      <td>Australia</td>\n      <td>Queensland</td>\n      <td>3</td>\n    </tr>\n    <tr>\n      <th>7</th>\n      <td>Australia</td>\n      <td>Tasmania</td>\n      <td>47</td>\n    </tr>\n    <tr>\n      <th>...</th>\n      <td>...</td>\n      <td>...</td>\n      <td>...</td>\n    </tr>\n    <tr>\n      <th>448</th>\n      <td>Uruguay</td>\n      <td>Colonia</td>\n      <td>6</td>\n    </tr>\n    <tr>\n      <th>453</th>\n      <td>Uruguay</td>\n      <td>San Jose</td>\n      <td>15</td>\n    </tr>\n    <tr>\n      <th>454</th>\n      <td>Uruguay</td>\n      <td>Uruguay</td>\n      <td>18</td>\n    </tr>\n    <tr>\n      <th>447</th>\n      <td>Uruguay</td>\n      <td>Canelones</td>\n      <td>19</td>\n    </tr>\n    <tr>\n      <th>450</th>\n      <td>Uruguay</td>\n      <td>Juanico</td>\n      <td>19</td>\n    </tr>\n  </tbody>\n</table>\n<p>455 rows × 3 columns</p>\n</div>"
     },
     "execution_count": 17,
     "metadata": {},
     "output_type": "execute_result"
    }
   ],
   "source": [
    "countries_reviewed.sort_values(by=['country', 'len'])"
   ],
   "metadata": {
    "collapsed": false
   }
  },
  {
   "cell_type": "code",
   "execution_count": null,
   "outputs": [],
   "source": [],
   "metadata": {
    "collapsed": false
   }
  }
 ],
 "metadata": {
  "kernelspec": {
   "name": "python3",
   "language": "python",
   "display_name": "Python 3 (ipykernel)"
  },
  "language_info": {
   "codemirror_mode": {
    "name": "ipython",
    "version": 2
   },
   "file_extension": ".py",
   "mimetype": "text/x-python",
   "name": "python",
   "nbconvert_exporter": "python",
   "pygments_lexer": "ipython2",
   "version": "2.7.6"
  }
 },
 "nbformat": 4,
 "nbformat_minor": 0
}
