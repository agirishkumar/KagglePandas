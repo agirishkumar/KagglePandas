{
 "cells": [
  {
   "cell_type": "markdown",
   "source": [
    "DTypes"
   ],
   "metadata": {
    "collapsed": false
   }
  },
  {
   "cell_type": "code",
   "execution_count": 1,
   "metadata": {
    "collapsed": true
   },
   "outputs": [],
   "source": [
    "import pandas as pd\n",
    "\n",
    "reviews = pd.read_csv('winemag-data_first150k.csv', index_col=0)"
   ]
  },
  {
   "cell_type": "code",
   "execution_count": 2,
   "outputs": [
    {
     "data": {
      "text/plain": "dtype('float64')"
     },
     "execution_count": 2,
     "metadata": {},
     "output_type": "execute_result"
    }
   ],
   "source": [
    "reviews.price.dtype"
   ],
   "metadata": {
    "collapsed": false
   }
  },
  {
   "cell_type": "code",
   "execution_count": 3,
   "outputs": [
    {
     "data": {
      "text/plain": "country         object\ndescription     object\ndesignation     object\npoints           int64\nprice          float64\nprovince        object\nregion_1        object\nregion_2        object\nvariety         object\nwinery          object\ndtype: object"
     },
     "execution_count": 3,
     "metadata": {},
     "output_type": "execute_result"
    }
   ],
   "source": [
    "reviews.dtypes"
   ],
   "metadata": {
    "collapsed": false
   }
  },
  {
   "cell_type": "code",
   "execution_count": 4,
   "outputs": [
    {
     "data": {
      "text/plain": "0         96\n1         96\n2         96\n3         96\n4         95\n          ..\n150925    91\n150926    91\n150927    91\n150928    90\n150929    90\nName: points, Length: 150930, dtype: int64"
     },
     "execution_count": 4,
     "metadata": {},
     "output_type": "execute_result"
    }
   ],
   "source": [
    "reviews.points"
   ],
   "metadata": {
    "collapsed": false
   }
  },
  {
   "cell_type": "code",
   "execution_count": 5,
   "outputs": [
    {
     "data": {
      "text/plain": "dtype('int64')"
     },
     "execution_count": 5,
     "metadata": {},
     "output_type": "execute_result"
    }
   ],
   "source": [
    "reviews.points.dtype"
   ],
   "metadata": {
    "collapsed": false
   }
  },
  {
   "cell_type": "code",
   "execution_count": 6,
   "outputs": [
    {
     "data": {
      "text/plain": "0         96.0\n1         96.0\n2         96.0\n3         96.0\n4         95.0\n          ... \n150925    91.0\n150926    91.0\n150927    91.0\n150928    90.0\n150929    90.0\nName: points, Length: 150930, dtype: float64"
     },
     "execution_count": 6,
     "metadata": {},
     "output_type": "execute_result"
    }
   ],
   "source": [
    "reviews.points.astype('float64')"
   ],
   "metadata": {
    "collapsed": false
   }
  },
  {
   "cell_type": "code",
   "execution_count": 7,
   "outputs": [
    {
     "data": {
      "text/plain": "Index([     0,      1,      2,      3,      4,      5,      6,      7,      8,\n            9,\n       ...\n       150920, 150921, 150922, 150923, 150924, 150925, 150926, 150927, 150928,\n       150929],\n      dtype='int64', length=150930)"
     },
     "execution_count": 7,
     "metadata": {},
     "output_type": "execute_result"
    }
   ],
   "source": [
    "reviews.index"
   ],
   "metadata": {
    "collapsed": false
   }
  },
  {
   "cell_type": "code",
   "execution_count": 8,
   "outputs": [
    {
     "data": {
      "text/plain": "dtype('int64')"
     },
     "execution_count": 8,
     "metadata": {},
     "output_type": "execute_result"
    }
   ],
   "source": [
    "reviews.index.dtype"
   ],
   "metadata": {
    "collapsed": false
   }
  },
  {
   "cell_type": "markdown",
   "source": [
    "Entries missing values are given the value NaN, short for \"Not a Number\". For technical reasons these NaN values are always of the float64 dtype."
   ],
   "metadata": {
    "collapsed": false
   }
  },
  {
   "cell_type": "markdown",
   "source": [
    "Pandas provides some methods specific to missing data. To select NaN entries you can use pd.isnull() (or its companion pd.notnull())."
   ],
   "metadata": {
    "collapsed": false
   }
  },
  {
   "cell_type": "code",
   "execution_count": 9,
   "outputs": [
    {
     "data": {
      "text/plain": "       country                                        description   \n1133       NaN  Delicate white flowers and a spin of lemon pee...  \\\n1440       NaN  A blend of 60% Syrah, 30% Cabernet Sauvignon a...   \n68226      NaN  From first sniff to last, the nose never makes...   \n113016     NaN  From first sniff to last, the nose never makes...   \n135696     NaN  From first sniff to last, the nose never makes...   \n\n         designation  points  price province region_1 region_2     variety   \n1133       Askitikos      90   17.0      NaN      NaN      NaN   Assyrtiko  \\\n1440            Shah      90   30.0      NaN      NaN      NaN   Red Blend   \n68226   Piedra Feliz      81   15.0      NaN      NaN      NaN  Pinot Noir   \n113016  Piedra Feliz      81   15.0      NaN      NaN      NaN  Pinot Noir   \n135696  Piedra Feliz      81   15.0      NaN      NaN      NaN  Pinot Noir   \n\n           winery  \n1133     Tsililis  \n1440    Büyülübağ  \n68226     Chilcas  \n113016    Chilcas  \n135696    Chilcas  ",
      "text/html": "<div>\n<style scoped>\n    .dataframe tbody tr th:only-of-type {\n        vertical-align: middle;\n    }\n\n    .dataframe tbody tr th {\n        vertical-align: top;\n    }\n\n    .dataframe thead th {\n        text-align: right;\n    }\n</style>\n<table border=\"1\" class=\"dataframe\">\n  <thead>\n    <tr style=\"text-align: right;\">\n      <th></th>\n      <th>country</th>\n      <th>description</th>\n      <th>designation</th>\n      <th>points</th>\n      <th>price</th>\n      <th>province</th>\n      <th>region_1</th>\n      <th>region_2</th>\n      <th>variety</th>\n      <th>winery</th>\n    </tr>\n  </thead>\n  <tbody>\n    <tr>\n      <th>1133</th>\n      <td>NaN</td>\n      <td>Delicate white flowers and a spin of lemon pee...</td>\n      <td>Askitikos</td>\n      <td>90</td>\n      <td>17.0</td>\n      <td>NaN</td>\n      <td>NaN</td>\n      <td>NaN</td>\n      <td>Assyrtiko</td>\n      <td>Tsililis</td>\n    </tr>\n    <tr>\n      <th>1440</th>\n      <td>NaN</td>\n      <td>A blend of 60% Syrah, 30% Cabernet Sauvignon a...</td>\n      <td>Shah</td>\n      <td>90</td>\n      <td>30.0</td>\n      <td>NaN</td>\n      <td>NaN</td>\n      <td>NaN</td>\n      <td>Red Blend</td>\n      <td>Büyülübağ</td>\n    </tr>\n    <tr>\n      <th>68226</th>\n      <td>NaN</td>\n      <td>From first sniff to last, the nose never makes...</td>\n      <td>Piedra Feliz</td>\n      <td>81</td>\n      <td>15.0</td>\n      <td>NaN</td>\n      <td>NaN</td>\n      <td>NaN</td>\n      <td>Pinot Noir</td>\n      <td>Chilcas</td>\n    </tr>\n    <tr>\n      <th>113016</th>\n      <td>NaN</td>\n      <td>From first sniff to last, the nose never makes...</td>\n      <td>Piedra Feliz</td>\n      <td>81</td>\n      <td>15.0</td>\n      <td>NaN</td>\n      <td>NaN</td>\n      <td>NaN</td>\n      <td>Pinot Noir</td>\n      <td>Chilcas</td>\n    </tr>\n    <tr>\n      <th>135696</th>\n      <td>NaN</td>\n      <td>From first sniff to last, the nose never makes...</td>\n      <td>Piedra Feliz</td>\n      <td>81</td>\n      <td>15.0</td>\n      <td>NaN</td>\n      <td>NaN</td>\n      <td>NaN</td>\n      <td>Pinot Noir</td>\n      <td>Chilcas</td>\n    </tr>\n  </tbody>\n</table>\n</div>"
     },
     "execution_count": 9,
     "metadata": {},
     "output_type": "execute_result"
    }
   ],
   "source": [
    "reviews[pd.isnull(reviews.country)]"
   ],
   "metadata": {
    "collapsed": false
   }
  },
  {
   "cell_type": "markdown",
   "source": [
    "Replacing missing values is a common operation. Pandas provides a really handy method for this problem: fillna(). fillna() provides a few different strategies for mitigating such data. For example, we can simply replace each NaN with an \"Unknown\""
   ],
   "metadata": {
    "collapsed": false
   }
  },
  {
   "cell_type": "code",
   "execution_count": 11,
   "outputs": [
    {
     "data": {
      "text/plain": "        country                                        description   \n1133    Unknown  Delicate white flowers and a spin of lemon pee...  \\\n1440    Unknown  A blend of 60% Syrah, 30% Cabernet Sauvignon a...   \n68226   Unknown  From first sniff to last, the nose never makes...   \n113016  Unknown  From first sniff to last, the nose never makes...   \n135696  Unknown  From first sniff to last, the nose never makes...   \n\n         designation  points  price province region_1 region_2     variety   \n1133       Askitikos      90   17.0  Unknown  Unknown  Unknown   Assyrtiko  \\\n1440            Shah      90   30.0  Unknown  Unknown  Unknown   Red Blend   \n68226   Piedra Feliz      81   15.0  Unknown  Unknown  Unknown  Pinot Noir   \n113016  Piedra Feliz      81   15.0  Unknown  Unknown  Unknown  Pinot Noir   \n135696  Piedra Feliz      81   15.0  Unknown  Unknown  Unknown  Pinot Noir   \n\n           winery  \n1133     Tsililis  \n1440    Büyülübağ  \n68226     Chilcas  \n113016    Chilcas  \n135696    Chilcas  ",
      "text/html": "<div>\n<style scoped>\n    .dataframe tbody tr th:only-of-type {\n        vertical-align: middle;\n    }\n\n    .dataframe tbody tr th {\n        vertical-align: top;\n    }\n\n    .dataframe thead th {\n        text-align: right;\n    }\n</style>\n<table border=\"1\" class=\"dataframe\">\n  <thead>\n    <tr style=\"text-align: right;\">\n      <th></th>\n      <th>country</th>\n      <th>description</th>\n      <th>designation</th>\n      <th>points</th>\n      <th>price</th>\n      <th>province</th>\n      <th>region_1</th>\n      <th>region_2</th>\n      <th>variety</th>\n      <th>winery</th>\n    </tr>\n  </thead>\n  <tbody>\n    <tr>\n      <th>1133</th>\n      <td>Unknown</td>\n      <td>Delicate white flowers and a spin of lemon pee...</td>\n      <td>Askitikos</td>\n      <td>90</td>\n      <td>17.0</td>\n      <td>Unknown</td>\n      <td>Unknown</td>\n      <td>Unknown</td>\n      <td>Assyrtiko</td>\n      <td>Tsililis</td>\n    </tr>\n    <tr>\n      <th>1440</th>\n      <td>Unknown</td>\n      <td>A blend of 60% Syrah, 30% Cabernet Sauvignon a...</td>\n      <td>Shah</td>\n      <td>90</td>\n      <td>30.0</td>\n      <td>Unknown</td>\n      <td>Unknown</td>\n      <td>Unknown</td>\n      <td>Red Blend</td>\n      <td>Büyülübağ</td>\n    </tr>\n    <tr>\n      <th>68226</th>\n      <td>Unknown</td>\n      <td>From first sniff to last, the nose never makes...</td>\n      <td>Piedra Feliz</td>\n      <td>81</td>\n      <td>15.0</td>\n      <td>Unknown</td>\n      <td>Unknown</td>\n      <td>Unknown</td>\n      <td>Pinot Noir</td>\n      <td>Chilcas</td>\n    </tr>\n    <tr>\n      <th>113016</th>\n      <td>Unknown</td>\n      <td>From first sniff to last, the nose never makes...</td>\n      <td>Piedra Feliz</td>\n      <td>81</td>\n      <td>15.0</td>\n      <td>Unknown</td>\n      <td>Unknown</td>\n      <td>Unknown</td>\n      <td>Pinot Noir</td>\n      <td>Chilcas</td>\n    </tr>\n    <tr>\n      <th>135696</th>\n      <td>Unknown</td>\n      <td>From first sniff to last, the nose never makes...</td>\n      <td>Piedra Feliz</td>\n      <td>81</td>\n      <td>15.0</td>\n      <td>Unknown</td>\n      <td>Unknown</td>\n      <td>Unknown</td>\n      <td>Pinot Noir</td>\n      <td>Chilcas</td>\n    </tr>\n  </tbody>\n</table>\n</div>"
     },
     "execution_count": 11,
     "metadata": {},
     "output_type": "execute_result"
    }
   ],
   "source": [
    "reviews[pd.isnull(reviews.country)].fillna(\"Unknown\")"
   ],
   "metadata": {
    "collapsed": false
   }
  },
  {
   "cell_type": "code",
   "execution_count": 14,
   "outputs": [
    {
     "data": {
      "text/plain": "0                            Martha's Vineyard\n1         Carodorum Selección Especial Reserva\n2                Special Selected Late Harvest\n3                                      Reserve\n4                                   La Brûlade\n                          ...                 \n150925                                     NaN\n150926                          Cuvée Prestige\n150927                           Terre di Dora\n150928                         Grand Brut Rosé\n150929                                     NaN\nName: designation, Length: 150930, dtype: object"
     },
     "execution_count": 14,
     "metadata": {},
     "output_type": "execute_result"
    }
   ],
   "source": [
    "reviews.designation.replace(\"Shah\", \"SRK\")"
   ],
   "metadata": {
    "collapsed": false
   }
  },
  {
   "cell_type": "code",
   "execution_count": null,
   "outputs": [],
   "source": [],
   "metadata": {
    "collapsed": false
   }
  }
 ],
 "metadata": {
  "kernelspec": {
   "display_name": "Python 3",
   "language": "python",
   "name": "python3"
  },
  "language_info": {
   "codemirror_mode": {
    "name": "ipython",
    "version": 2
   },
   "file_extension": ".py",
   "mimetype": "text/x-python",
   "name": "python",
   "nbconvert_exporter": "python",
   "pygments_lexer": "ipython2",
   "version": "2.7.6"
  }
 },
 "nbformat": 4,
 "nbformat_minor": 0
}
